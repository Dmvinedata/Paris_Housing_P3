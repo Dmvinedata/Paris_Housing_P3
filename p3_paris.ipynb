{
 "cells": [
  {
   "cell_type": "markdown",
   "metadata": {},
   "source": [
    "# Final Project Submission"
   ]
  },
  {
   "cell_type": "markdown",
   "metadata": {},
   "source": [
    "- Student Name: Deztany Jackson\n",
    "- Student Pace: Self Pace\n",
    "- Scheduled Project Review:\n",
    "- Instructor Name: Morgan Jones\n",
    "- Blog Post URL:\n"
   ]
  },
  {
   "cell_type": "markdown",
   "metadata": {},
   "source": [
    "### Quesitons /Comments\n",
    "- Aggregate Table for Dataset understanding - mean\n",
    "- When do we do the TP/FP/TN Stuff?\n",
    "    - Do cross tab table\n",
    "- Explore dataset\n",
    "    - Value Counts: group by Table\n",
    "    - Graph Prices\n",
    "    - Historgram of dataset - yes\n",
    "    - How many of each category is there now....% of dataset\n",
    "- Look into function of class of cross valudation from workflow model\n",
    "- How do we get value counts for each column by Catgetory?? EDA\n",
    "- Plot distribution of the continous numerical values one Way\n",
    "- Plot categorical numerical values another way?\n",
    "- Outlier removal How to check?\n",
    "- Format font and labels in visuals\n",
    "- Remove warnings from "
   ]
  },
  {
   "cell_type": "markdown",
   "metadata": {},
   "source": [
    "## Classification of Paris Housings - Luxury vs Basic"
   ]
  },
  {
   "cell_type": "markdown",
   "metadata": {},
   "source": [
    "# Business Understanding"
   ]
  },
  {
   "cell_type": "markdown",
   "metadata": {},
   "source": [
    "Certain Paris Real Estate (RE) investment agencies are looking to invest in luxury properties to lease\n",
    "out to HotelsVIP Guests of the city and Companies as a \"AirBnB\" for their employees and clients. There are no rules for foreigners on owning property in France. As one of the  most expensive real estate cities in the world picking prime real estate to buy at the right time is a safe investment.\n",
    "\n",
    "Classification models will be built to correctly identify \"Luxury\" property and the best data attributes (features) that help make the best predictions.\n",
    "\n",
    "It is more important to correctly identify \"Luxury\" property as best as possible and minimize incorrectly identifying \"Basic\" property. This will cost having a long list of \"Luxury\" property but help the RE Investment agencies feel confident in the smaller set of listings.\n",
    "\n",
    "Due to data imbalance and business goal our main metrics  will be : Precision and F1 \n",
    "\n",
    "[F1 Score Metric, Joos Kortanje, 2021](https://towardsdatascience.com/the-f1-score-bec2bbc38aa6)"
   ]
  },
  {
   "cell_type": "markdown",
   "metadata": {},
   "source": [
    "# Data Understanding\n",
    "\n",
    "### Paris Dataset"
   ]
  },
  {
   "cell_type": "markdown",
   "metadata": {},
   "source": [
    "This project uses dataset from kaggle and used for Educational Purposes \"ParisHousing.csv\". The intial dataset starts with 10,000 Rows of data and 18 Features (including \"Category\" the target value).\n",
    "\n",
    "[Paris Kaggle Dataset, 2021](https://www.kaggle.com/datasets/mssmartypants/paris-housing-classification)"
   ]
  },
  {
   "cell_type": "markdown",
   "metadata": {},
   "source": [
    "<table style=\"width:100%\">\n",
    "<thead>\n",
    "<tr>\n",
    "<th style=\"text-align:center; font-weight: bold; font-size:14px\">Feature </th>\n",
    "<th style=\"text-align:center; font-weight: bold; font-size:14px\">Description</th>\n",
    "<th style=\"text-align:center; font-weight: bold; font-size:14px\">Data Type</th> \n",
    "</tr>\n",
    "</thead>\n",
    "<tbody>\n",
    "<td><b>Category</b></td>\n",
    "<td>Classification of Real Estate<br> (Basic or Luxury)</td>\n",
    "<td>Nominal Number</td>\n",
    "</td>\n",
    "<tr> \n",
    "<td><b>Price</b></td>\n",
    "<td>Cost of RE<br> (Units unknown)</td>\n",
    "<td>Cardinal Number</td>\n",
    "</tr>\n",
    "<tr> \n",
    "<td><b>Building_Size(m)</b></td>\n",
    "<td>Size of the building<br> (meters)</td>\n",
    "<td>Cardinal Number</td>\n",
    "</tr>\n",
    "<tr>\n",
    "<td><b>Has_Yard</b></td/>\n",
    "<td>Has yard <br> (0:No,1:Yes)</td>\n",
    "<td>Nominal Number</td>\n",
    "</tr>\n",
    "<tr>\n",
    "<td><b>Has_Pool</b></td>\n",
    "<td>Has Pool <br> (0:No,1:Yes)</td>\n",
    "<td>Nominal Number</td>\n",
    "</tr>\n",
    "<tr>\n",
    "<td><b>Num_of_Floors</b></td>\n",
    "<td>Number of Floors</td> (0; 1; 2; 3+)</td>\n",
    "<td>Nominal Number</td>\n",
    "</tr>\n",
    "<tr>\n",
    "<td><b>Num_of_Rooms</b></td>\n",
    "<td>Number of Rooms <br> (0; 1; 2; 3+)</td>\n",
    "<td>Nominal Number</td>\n",
    "</tr>\n",
    "<tr>\n",
    "<td><b>City_Part_Range</b></td>\n",
    "<td>Thehigher the range, the more exclusive the neighbourhood is<br> </td>\n",
    "<td>Cardinal Number</td>\n",
    "</tr>\n",
    "<tr>\n",
    "<td><b>City_Code</b></td>\n",
    "<td>Zipcode<br> </td>(Number)\n",
    "<td>Nominal Number</td>\n",
    "</tr>\n",
    "<tr>\n",
    "<td><b>Num_Previous_Owners</b></td>\n",
    "<td>Number of Previous Ownder</td>\n",
    "<td>Cardinal Number</td>\n",
    "</tr>\n",
    "<tr>\n",
    "<td><b>Garage_Size(m)</b></td>\n",
    "<td>Size of the garage<br> (meters)</td>\n",
    "<td>Cardinal Number</td>\n",
    "</tr>\n",
    "<tr>\n",
    "<td><b>Attic_Size(m)</b></td>\n",
    "<td>Size of the attic<br> (meters)</td>\n",
    "<td>Cardinal Number</td>\n",
    "</tr>\n",
    "<tr>\n",
    "<td><b>Has_Storm_Protector</b></td>\n",
    "<td>Has Storm Protector <br> (0:No,1:Yes)</td>\n",
    "<td>Nominal Number</td>\n",
    "</tr>\n",
    "<tr>\n",
    "<td><b>Basement_Size(m)</b></td>\n",
    "<td>Size of the basement<br> (meters)</td>\n",
    "<td>Cardinal Number</td>\n",
    "</tr>\n",
    "<tr>\n",
    "<td><b>Year_Built</b></td>\n",
    "<td>Year built <br></td>\n",
    "<td>Nominal Number</td>\n",
    "</tr>\n",
    "<tr>\n",
    "<td><b>Num_of_Guest_Rooms</b></td>\n",
    "<td>Number of Guest Rooms <br> (0; 1; 2; 3+)</td>\n",
    "<td>Cardinal Number</td>\n",
    "</tr>\n",
    "<tr>\n",
    "</tr>\n",
    "<tr>\n",
    "<td><b>Has_Storage_Room</b></td>\n",
    "<td>Has Storage Room <br> (0:No,1:Yes)</td>\n",
    "<td>Nominal Number</td>\n",
    "</tr>\n",
    "<tr> \n",
    "</tbody>\n",
    "</table>"
   ]
  },
  {
   "cell_type": "markdown",
   "metadata": {},
   "source": [
    "[Loan Classification,Kamal Khumar, 2021 ](https://www.kaggle.com/code/kamalkhumar/loan-status-prediction)"
   ]
  },
  {
   "cell_type": "code",
   "execution_count": 236,
   "metadata": {},
   "outputs": [],
   "source": [
    "#Import packages\n",
    "\n",
    "import pandas as pd\n",
    "import numpy as np\n",
    "from matplotlib import pyplot as plt\n",
    "import seaborn as sns\n",
    "\n",
    "from sklearn.model_selection import train_test_split, GridSearchCV, cross_val_score\n",
    "from sklearn.dummy import DummyClassifier\n",
    "from sklearn.pipeline import Pipeline\n",
    "from sklearn.preprocessing import StandardScaler, FunctionTransformer\n",
    "#from sklearn.impute import SimpleImputer\n",
    "from sklearn.compose import ColumnTransformer\n",
    "from sklearn.linear_model import LogisticRegression\n",
    "from sklearn.tree import DecisionTreeClassifier\n",
    "from sklearn.neighbors import KNeighborsClassifier\n",
    "from sklearn.ensemble import RandomForestClassifier\n",
    "from sklearn.metrics import plot_confusion_matrix,classification_report,recall_score,accuracy_score, auc\n",
    "from sklearn.metrics import precision_score, f1_score, confusion_matrix, plot_roc_curve\n",
    "from sklearn.metrics import precision_recall_curve, PrecisionRecallDisplay, average_precision_score, make_scorer\n",
    "\n",
    "import warnings\n",
    "warnings.filterwarnings('ignore')\n",
    "#from imblearn.metrics import classification_report_im\n",
    "from imblearn.over_sampling import SMOTE\n",
    "from imblearn.pipeline import Pipeline as ImPipeline\n",
    "\n",
    "import pickle"
   ]
  },
  {
   "cell_type": "markdown",
   "metadata": {},
   "source": [
    "Describe the dataset and where it came from and links [kaggle]"
   ]
  },
  {
   "cell_type": "code",
   "execution_count": 64,
   "metadata": {},
   "outputs": [
    {
     "data": {
      "text/html": [
       "<div>\n",
       "<style scoped>\n",
       "    .dataframe tbody tr th:only-of-type {\n",
       "        vertical-align: middle;\n",
       "    }\n",
       "\n",
       "    .dataframe tbody tr th {\n",
       "        vertical-align: top;\n",
       "    }\n",
       "\n",
       "    .dataframe thead th {\n",
       "        text-align: right;\n",
       "    }\n",
       "</style>\n",
       "<table border=\"1\" class=\"dataframe\">\n",
       "  <thead>\n",
       "    <tr style=\"text-align: right;\">\n",
       "      <th></th>\n",
       "      <th>squareMeters</th>\n",
       "      <th>numberOfRooms</th>\n",
       "      <th>hasYard</th>\n",
       "      <th>hasPool</th>\n",
       "      <th>floors</th>\n",
       "      <th>cityCode</th>\n",
       "      <th>cityPartRange</th>\n",
       "      <th>numPrevOwners</th>\n",
       "      <th>made</th>\n",
       "      <th>isNewBuilt</th>\n",
       "      <th>hasStormProtector</th>\n",
       "      <th>basement</th>\n",
       "      <th>attic</th>\n",
       "      <th>garage</th>\n",
       "      <th>hasStorageRoom</th>\n",
       "      <th>hasGuestRoom</th>\n",
       "      <th>price</th>\n",
       "      <th>category</th>\n",
       "    </tr>\n",
       "  </thead>\n",
       "  <tbody>\n",
       "    <tr>\n",
       "      <th>0</th>\n",
       "      <td>75523</td>\n",
       "      <td>3</td>\n",
       "      <td>0</td>\n",
       "      <td>1</td>\n",
       "      <td>63</td>\n",
       "      <td>9373</td>\n",
       "      <td>3</td>\n",
       "      <td>8</td>\n",
       "      <td>2005</td>\n",
       "      <td>0</td>\n",
       "      <td>1</td>\n",
       "      <td>4313</td>\n",
       "      <td>9005</td>\n",
       "      <td>956</td>\n",
       "      <td>0</td>\n",
       "      <td>7</td>\n",
       "      <td>7559081.5</td>\n",
       "      <td>Basic</td>\n",
       "    </tr>\n",
       "    <tr>\n",
       "      <th>1</th>\n",
       "      <td>80771</td>\n",
       "      <td>39</td>\n",
       "      <td>1</td>\n",
       "      <td>1</td>\n",
       "      <td>98</td>\n",
       "      <td>39381</td>\n",
       "      <td>8</td>\n",
       "      <td>6</td>\n",
       "      <td>2015</td>\n",
       "      <td>1</td>\n",
       "      <td>0</td>\n",
       "      <td>3653</td>\n",
       "      <td>2436</td>\n",
       "      <td>128</td>\n",
       "      <td>1</td>\n",
       "      <td>2</td>\n",
       "      <td>8085989.5</td>\n",
       "      <td>Luxury</td>\n",
       "    </tr>\n",
       "    <tr>\n",
       "      <th>2</th>\n",
       "      <td>55712</td>\n",
       "      <td>58</td>\n",
       "      <td>0</td>\n",
       "      <td>1</td>\n",
       "      <td>19</td>\n",
       "      <td>34457</td>\n",
       "      <td>6</td>\n",
       "      <td>8</td>\n",
       "      <td>2021</td>\n",
       "      <td>0</td>\n",
       "      <td>0</td>\n",
       "      <td>2937</td>\n",
       "      <td>8852</td>\n",
       "      <td>135</td>\n",
       "      <td>1</td>\n",
       "      <td>9</td>\n",
       "      <td>5574642.1</td>\n",
       "      <td>Basic</td>\n",
       "    </tr>\n",
       "    <tr>\n",
       "      <th>3</th>\n",
       "      <td>32316</td>\n",
       "      <td>47</td>\n",
       "      <td>0</td>\n",
       "      <td>0</td>\n",
       "      <td>6</td>\n",
       "      <td>27939</td>\n",
       "      <td>10</td>\n",
       "      <td>4</td>\n",
       "      <td>2012</td>\n",
       "      <td>0</td>\n",
       "      <td>1</td>\n",
       "      <td>659</td>\n",
       "      <td>7141</td>\n",
       "      <td>359</td>\n",
       "      <td>0</td>\n",
       "      <td>3</td>\n",
       "      <td>3232561.2</td>\n",
       "      <td>Basic</td>\n",
       "    </tr>\n",
       "    <tr>\n",
       "      <th>4</th>\n",
       "      <td>70429</td>\n",
       "      <td>19</td>\n",
       "      <td>1</td>\n",
       "      <td>1</td>\n",
       "      <td>90</td>\n",
       "      <td>38045</td>\n",
       "      <td>3</td>\n",
       "      <td>7</td>\n",
       "      <td>1990</td>\n",
       "      <td>1</td>\n",
       "      <td>0</td>\n",
       "      <td>8435</td>\n",
       "      <td>2429</td>\n",
       "      <td>292</td>\n",
       "      <td>1</td>\n",
       "      <td>4</td>\n",
       "      <td>7055052.0</td>\n",
       "      <td>Luxury</td>\n",
       "    </tr>\n",
       "  </tbody>\n",
       "</table>\n",
       "</div>"
      ],
      "text/plain": [
       "   squareMeters  numberOfRooms  hasYard  hasPool  floors  cityCode  \\\n",
       "0         75523              3        0        1      63      9373   \n",
       "1         80771             39        1        1      98     39381   \n",
       "2         55712             58        0        1      19     34457   \n",
       "3         32316             47        0        0       6     27939   \n",
       "4         70429             19        1        1      90     38045   \n",
       "\n",
       "   cityPartRange  numPrevOwners  made  isNewBuilt  hasStormProtector  \\\n",
       "0              3              8  2005           0                  1   \n",
       "1              8              6  2015           1                  0   \n",
       "2              6              8  2021           0                  0   \n",
       "3             10              4  2012           0                  1   \n",
       "4              3              7  1990           1                  0   \n",
       "\n",
       "   basement  attic  garage  hasStorageRoom  hasGuestRoom      price category  \n",
       "0      4313   9005     956               0             7  7559081.5    Basic  \n",
       "1      3653   2436     128               1             2  8085989.5   Luxury  \n",
       "2      2937   8852     135               1             9  5574642.1    Basic  \n",
       "3       659   7141     359               0             3  3232561.2    Basic  \n",
       "4      8435   2429     292               1             4  7055052.0   Luxury  "
      ]
     },
     "execution_count": 64,
     "metadata": {},
     "output_type": "execute_result"
    }
   ],
   "source": [
    "# Import csv file\n",
    "paris_df = pd.read_csv(\"data/ParisHousingClass.csv\")\n",
    "paris_df.head()"
   ]
  },
  {
   "cell_type": "markdown",
   "metadata": {},
   "source": [
    "This dataset has 10000 rows and 18 columns (including the target)"
   ]
  },
  {
   "cell_type": "code",
   "execution_count": 65,
   "metadata": {},
   "outputs": [
    {
     "data": {
      "text/plain": [
       "(10000, 18)"
      ]
     },
     "execution_count": 65,
     "metadata": {},
     "output_type": "execute_result"
    }
   ],
   "source": [
    "#Shape of dataset\n",
    "paris_df.shape"
   ]
  },
  {
   "cell_type": "code",
   "execution_count": 66,
   "metadata": {},
   "outputs": [
    {
     "data": {
      "text/html": [
       "<div>\n",
       "<style scoped>\n",
       "    .dataframe tbody tr th:only-of-type {\n",
       "        vertical-align: middle;\n",
       "    }\n",
       "\n",
       "    .dataframe tbody tr th {\n",
       "        vertical-align: top;\n",
       "    }\n",
       "\n",
       "    .dataframe thead th {\n",
       "        text-align: right;\n",
       "    }\n",
       "</style>\n",
       "<table border=\"1\" class=\"dataframe\">\n",
       "  <thead>\n",
       "    <tr style=\"text-align: right;\">\n",
       "      <th></th>\n",
       "      <th>squareMeters</th>\n",
       "      <th>numberOfRooms</th>\n",
       "      <th>hasYard</th>\n",
       "      <th>hasPool</th>\n",
       "      <th>floors</th>\n",
       "      <th>cityCode</th>\n",
       "      <th>cityPartRange</th>\n",
       "      <th>numPrevOwners</th>\n",
       "      <th>made</th>\n",
       "      <th>isNewBuilt</th>\n",
       "      <th>hasStormProtector</th>\n",
       "      <th>basement</th>\n",
       "      <th>attic</th>\n",
       "      <th>garage</th>\n",
       "      <th>hasStorageRoom</th>\n",
       "      <th>hasGuestRoom</th>\n",
       "      <th>price</th>\n",
       "    </tr>\n",
       "  </thead>\n",
       "  <tbody>\n",
       "    <tr>\n",
       "      <th>count</th>\n",
       "      <td>10000.00000</td>\n",
       "      <td>10000.000000</td>\n",
       "      <td>10000.000000</td>\n",
       "      <td>10000.000000</td>\n",
       "      <td>10000.000000</td>\n",
       "      <td>10000.000000</td>\n",
       "      <td>10000.000000</td>\n",
       "      <td>10000.000000</td>\n",
       "      <td>10000.00000</td>\n",
       "      <td>10000.000000</td>\n",
       "      <td>10000.000000</td>\n",
       "      <td>10000.000000</td>\n",
       "      <td>10000.00000</td>\n",
       "      <td>10000.00000</td>\n",
       "      <td>10000.000000</td>\n",
       "      <td>10000.00000</td>\n",
       "      <td>1.000000e+04</td>\n",
       "    </tr>\n",
       "    <tr>\n",
       "      <th>mean</th>\n",
       "      <td>49870.13120</td>\n",
       "      <td>50.358400</td>\n",
       "      <td>0.508700</td>\n",
       "      <td>0.496800</td>\n",
       "      <td>50.276300</td>\n",
       "      <td>50225.486100</td>\n",
       "      <td>5.510100</td>\n",
       "      <td>5.521700</td>\n",
       "      <td>2005.48850</td>\n",
       "      <td>0.499100</td>\n",
       "      <td>0.499900</td>\n",
       "      <td>5033.103900</td>\n",
       "      <td>5028.01060</td>\n",
       "      <td>553.12120</td>\n",
       "      <td>0.503000</td>\n",
       "      <td>4.99460</td>\n",
       "      <td>4.993448e+06</td>\n",
       "    </tr>\n",
       "    <tr>\n",
       "      <th>std</th>\n",
       "      <td>28774.37535</td>\n",
       "      <td>28.816696</td>\n",
       "      <td>0.499949</td>\n",
       "      <td>0.500015</td>\n",
       "      <td>28.889171</td>\n",
       "      <td>29006.675799</td>\n",
       "      <td>2.872024</td>\n",
       "      <td>2.856667</td>\n",
       "      <td>9.30809</td>\n",
       "      <td>0.500024</td>\n",
       "      <td>0.500025</td>\n",
       "      <td>2876.729545</td>\n",
       "      <td>2894.33221</td>\n",
       "      <td>262.05017</td>\n",
       "      <td>0.500016</td>\n",
       "      <td>3.17641</td>\n",
       "      <td>2.877424e+06</td>\n",
       "    </tr>\n",
       "    <tr>\n",
       "      <th>min</th>\n",
       "      <td>89.00000</td>\n",
       "      <td>1.000000</td>\n",
       "      <td>0.000000</td>\n",
       "      <td>0.000000</td>\n",
       "      <td>1.000000</td>\n",
       "      <td>3.000000</td>\n",
       "      <td>1.000000</td>\n",
       "      <td>1.000000</td>\n",
       "      <td>1990.00000</td>\n",
       "      <td>0.000000</td>\n",
       "      <td>0.000000</td>\n",
       "      <td>0.000000</td>\n",
       "      <td>1.00000</td>\n",
       "      <td>100.00000</td>\n",
       "      <td>0.000000</td>\n",
       "      <td>0.00000</td>\n",
       "      <td>1.031350e+04</td>\n",
       "    </tr>\n",
       "    <tr>\n",
       "      <th>25%</th>\n",
       "      <td>25098.50000</td>\n",
       "      <td>25.000000</td>\n",
       "      <td>0.000000</td>\n",
       "      <td>0.000000</td>\n",
       "      <td>25.000000</td>\n",
       "      <td>24693.750000</td>\n",
       "      <td>3.000000</td>\n",
       "      <td>3.000000</td>\n",
       "      <td>1997.00000</td>\n",
       "      <td>0.000000</td>\n",
       "      <td>0.000000</td>\n",
       "      <td>2559.750000</td>\n",
       "      <td>2512.00000</td>\n",
       "      <td>327.75000</td>\n",
       "      <td>0.000000</td>\n",
       "      <td>2.00000</td>\n",
       "      <td>2.516402e+06</td>\n",
       "    </tr>\n",
       "    <tr>\n",
       "      <th>50%</th>\n",
       "      <td>50105.50000</td>\n",
       "      <td>50.000000</td>\n",
       "      <td>1.000000</td>\n",
       "      <td>0.000000</td>\n",
       "      <td>50.000000</td>\n",
       "      <td>50693.000000</td>\n",
       "      <td>5.000000</td>\n",
       "      <td>5.000000</td>\n",
       "      <td>2005.50000</td>\n",
       "      <td>0.000000</td>\n",
       "      <td>0.000000</td>\n",
       "      <td>5092.500000</td>\n",
       "      <td>5045.00000</td>\n",
       "      <td>554.00000</td>\n",
       "      <td>1.000000</td>\n",
       "      <td>5.00000</td>\n",
       "      <td>5.016180e+06</td>\n",
       "    </tr>\n",
       "    <tr>\n",
       "      <th>75%</th>\n",
       "      <td>74609.75000</td>\n",
       "      <td>75.000000</td>\n",
       "      <td>1.000000</td>\n",
       "      <td>1.000000</td>\n",
       "      <td>76.000000</td>\n",
       "      <td>75683.250000</td>\n",
       "      <td>8.000000</td>\n",
       "      <td>8.000000</td>\n",
       "      <td>2014.00000</td>\n",
       "      <td>1.000000</td>\n",
       "      <td>1.000000</td>\n",
       "      <td>7511.250000</td>\n",
       "      <td>7540.50000</td>\n",
       "      <td>777.25000</td>\n",
       "      <td>1.000000</td>\n",
       "      <td>8.00000</td>\n",
       "      <td>7.469092e+06</td>\n",
       "    </tr>\n",
       "    <tr>\n",
       "      <th>max</th>\n",
       "      <td>99999.00000</td>\n",
       "      <td>100.000000</td>\n",
       "      <td>1.000000</td>\n",
       "      <td>1.000000</td>\n",
       "      <td>100.000000</td>\n",
       "      <td>99953.000000</td>\n",
       "      <td>10.000000</td>\n",
       "      <td>10.000000</td>\n",
       "      <td>2021.00000</td>\n",
       "      <td>1.000000</td>\n",
       "      <td>1.000000</td>\n",
       "      <td>10000.000000</td>\n",
       "      <td>10000.00000</td>\n",
       "      <td>1000.00000</td>\n",
       "      <td>1.000000</td>\n",
       "      <td>10.00000</td>\n",
       "      <td>1.000677e+07</td>\n",
       "    </tr>\n",
       "  </tbody>\n",
       "</table>\n",
       "</div>"
      ],
      "text/plain": [
       "       squareMeters  numberOfRooms       hasYard       hasPool        floors  \\\n",
       "count   10000.00000   10000.000000  10000.000000  10000.000000  10000.000000   \n",
       "mean    49870.13120      50.358400      0.508700      0.496800     50.276300   \n",
       "std     28774.37535      28.816696      0.499949      0.500015     28.889171   \n",
       "min        89.00000       1.000000      0.000000      0.000000      1.000000   \n",
       "25%     25098.50000      25.000000      0.000000      0.000000     25.000000   \n",
       "50%     50105.50000      50.000000      1.000000      0.000000     50.000000   \n",
       "75%     74609.75000      75.000000      1.000000      1.000000     76.000000   \n",
       "max     99999.00000     100.000000      1.000000      1.000000    100.000000   \n",
       "\n",
       "           cityCode  cityPartRange  numPrevOwners         made    isNewBuilt  \\\n",
       "count  10000.000000   10000.000000   10000.000000  10000.00000  10000.000000   \n",
       "mean   50225.486100       5.510100       5.521700   2005.48850      0.499100   \n",
       "std    29006.675799       2.872024       2.856667      9.30809      0.500024   \n",
       "min        3.000000       1.000000       1.000000   1990.00000      0.000000   \n",
       "25%    24693.750000       3.000000       3.000000   1997.00000      0.000000   \n",
       "50%    50693.000000       5.000000       5.000000   2005.50000      0.000000   \n",
       "75%    75683.250000       8.000000       8.000000   2014.00000      1.000000   \n",
       "max    99953.000000      10.000000      10.000000   2021.00000      1.000000   \n",
       "\n",
       "       hasStormProtector      basement        attic       garage  \\\n",
       "count       10000.000000  10000.000000  10000.00000  10000.00000   \n",
       "mean            0.499900   5033.103900   5028.01060    553.12120   \n",
       "std             0.500025   2876.729545   2894.33221    262.05017   \n",
       "min             0.000000      0.000000      1.00000    100.00000   \n",
       "25%             0.000000   2559.750000   2512.00000    327.75000   \n",
       "50%             0.000000   5092.500000   5045.00000    554.00000   \n",
       "75%             1.000000   7511.250000   7540.50000    777.25000   \n",
       "max             1.000000  10000.000000  10000.00000   1000.00000   \n",
       "\n",
       "       hasStorageRoom  hasGuestRoom         price  \n",
       "count    10000.000000   10000.00000  1.000000e+04  \n",
       "mean         0.503000       4.99460  4.993448e+06  \n",
       "std          0.500016       3.17641  2.877424e+06  \n",
       "min          0.000000       0.00000  1.031350e+04  \n",
       "25%          0.000000       2.00000  2.516402e+06  \n",
       "50%          1.000000       5.00000  5.016180e+06  \n",
       "75%          1.000000       8.00000  7.469092e+06  \n",
       "max          1.000000      10.00000  1.000677e+07  "
      ]
     },
     "execution_count": 66,
     "metadata": {},
     "output_type": "execute_result"
    }
   ],
   "source": [
    "#Describe the dataset\n",
    "paris_df.describe()"
   ]
  },
  {
   "cell_type": "code",
   "execution_count": 67,
   "metadata": {},
   "outputs": [
    {
     "name": "stdout",
     "output_type": "stream",
     "text": [
      "<class 'pandas.core.frame.DataFrame'>\n",
      "RangeIndex: 10000 entries, 0 to 9999\n",
      "Data columns (total 18 columns):\n",
      " #   Column             Non-Null Count  Dtype  \n",
      "---  ------             --------------  -----  \n",
      " 0   squareMeters       10000 non-null  int64  \n",
      " 1   numberOfRooms      10000 non-null  int64  \n",
      " 2   hasYard            10000 non-null  int64  \n",
      " 3   hasPool            10000 non-null  int64  \n",
      " 4   floors             10000 non-null  int64  \n",
      " 5   cityCode           10000 non-null  int64  \n",
      " 6   cityPartRange      10000 non-null  int64  \n",
      " 7   numPrevOwners      10000 non-null  int64  \n",
      " 8   made               10000 non-null  int64  \n",
      " 9   isNewBuilt         10000 non-null  int64  \n",
      " 10  hasStormProtector  10000 non-null  int64  \n",
      " 11  basement           10000 non-null  int64  \n",
      " 12  attic              10000 non-null  int64  \n",
      " 13  garage             10000 non-null  int64  \n",
      " 14  hasStorageRoom     10000 non-null  int64  \n",
      " 15  hasGuestRoom       10000 non-null  int64  \n",
      " 16  price              10000 non-null  float64\n",
      " 17  category           10000 non-null  object \n",
      "dtypes: float64(1), int64(16), object(1)\n",
      "memory usage: 1.4+ MB\n"
     ]
    }
   ],
   "source": [
    "#Information on dataset\n",
    "paris_df.info()"
   ]
  },
  {
   "cell_type": "markdown",
   "metadata": {},
   "source": [
    "There are no textual values except for the target variable although some are categorical even though they are numerical."
   ]
  },
  {
   "cell_type": "code",
   "execution_count": 68,
   "metadata": {},
   "outputs": [],
   "source": [
    "#drop columns that don't seem to add value\n",
    "paris_df = paris_df.drop(columns=\"isNewBuilt\",axis =1)\n"
   ]
  },
  {
   "cell_type": "code",
   "execution_count": 69,
   "metadata": {},
   "outputs": [
    {
     "data": {
      "text/plain": [
       "(10000, 17)"
      ]
     },
     "execution_count": 69,
     "metadata": {},
     "output_type": "execute_result"
    }
   ],
   "source": [
    "#checking shape after deletion\n",
    "paris_df.shape"
   ]
  },
  {
   "cell_type": "code",
   "execution_count": 70,
   "metadata": {},
   "outputs": [],
   "source": [
    "#Any null values? - No NULL Values\n",
    "#paris_df.isnull().sum()\n",
    "#No Null values"
   ]
  },
  {
   "cell_type": "code",
   "execution_count": 71,
   "metadata": {},
   "outputs": [],
   "source": [
    "#Checking for duplicates - None\n",
    "#paris_df.duplicated().sum() "
   ]
  },
  {
   "cell_type": "markdown",
   "metadata": {},
   "source": [
    "# Describe data Features\n",
    "\n",
    "- Plot Distribution of data\n",
    "- Multicolinearity\n",
    "- Heatmap\n"
   ]
  },
  {
   "cell_type": "code",
   "execution_count": 72,
   "metadata": {},
   "outputs": [
    {
     "name": "stdout",
     "output_type": "stream",
     "text": [
      "{'squareMeters': 'Building_Size(m)', 'numberOfRooms': 'Num_of_Rooms', 'hasYard': 'Has_Yard', 'hasPool': 'Has_Pool', 'floors': 'Num_of_Floors', 'cityCode': 'City_Code', 'cityPartRange': 'City_Part_Range', 'numPrevOwners': 'Num_Previous_Owners', 'made': 'Year_Built', 'hasStormProtector': 'Has_Storm_Protector', 'basement': 'Basement_Size(m)', 'attic': 'Attic_Size(m)', 'garage': 'Garage_Size(m)', 'hasStorageRoom': 'Has_Storage_Room', 'hasGuestRoom': 'Num_of_Guest_Rooms', 'price': 'Price', 'category': 'Category'}\n"
     ]
    }
   ],
   "source": [
    "#Renaming columns for better clarity\n",
    "old_cols = []\n",
    "new_col = ['Building_Size(m)','Num_of_Rooms','Has_Yard','Has_Pool','Num_of_Floors','City_Code','City_Part_Range',\n",
    "           'Num_Previous_Owners', 'Year_Built','Has_Storm_Protector',\n",
    "           'Basement_Size(m)','Attic_Size(m)', 'Garage_Size(m)', 'Has_Storage_Room','Num_of_Guest_Rooms','Price','Category']\n",
    "col_dict = {}\n",
    "for ind, col in enumerate(paris_df.columns):\n",
    "    col_dict[col] = new_col[ind]\n",
    "print(col_dict)\n",
    "paris_df.rename(columns = col_dict, inplace= True)"
   ]
  },
  {
   "cell_type": "code",
   "execution_count": 73,
   "metadata": {},
   "outputs": [],
   "source": [
    "#Are we removing any features for general importance?\n"
   ]
  },
  {
   "cell_type": "code",
   "execution_count": 74,
   "metadata": {},
   "outputs": [
    {
     "data": {
      "text/html": [
       "<div>\n",
       "<style scoped>\n",
       "    .dataframe tbody tr th:only-of-type {\n",
       "        vertical-align: middle;\n",
       "    }\n",
       "\n",
       "    .dataframe tbody tr th {\n",
       "        vertical-align: top;\n",
       "    }\n",
       "\n",
       "    .dataframe thead th {\n",
       "        text-align: right;\n",
       "    }\n",
       "</style>\n",
       "<table border=\"1\" class=\"dataframe\">\n",
       "  <thead>\n",
       "    <tr style=\"text-align: right;\">\n",
       "      <th></th>\n",
       "      <th>Building_Size(m)</th>\n",
       "      <th>Num_of_Rooms</th>\n",
       "      <th>Has_Yard</th>\n",
       "      <th>Has_Pool</th>\n",
       "      <th>Num_of_Floors</th>\n",
       "      <th>City_Code</th>\n",
       "      <th>City_Part_Range</th>\n",
       "      <th>Num_Previous_Owners</th>\n",
       "      <th>Year_Built</th>\n",
       "      <th>Has_Storm_Protector</th>\n",
       "      <th>Basement_Size(m)</th>\n",
       "      <th>Attic_Size(m)</th>\n",
       "      <th>Garage_Size(m)</th>\n",
       "      <th>Has_Storage_Room</th>\n",
       "      <th>Num_of_Guest_Rooms</th>\n",
       "      <th>Price</th>\n",
       "    </tr>\n",
       "    <tr>\n",
       "      <th>Category</th>\n",
       "      <th></th>\n",
       "      <th></th>\n",
       "      <th></th>\n",
       "      <th></th>\n",
       "      <th></th>\n",
       "      <th></th>\n",
       "      <th></th>\n",
       "      <th></th>\n",
       "      <th></th>\n",
       "      <th></th>\n",
       "      <th></th>\n",
       "      <th></th>\n",
       "      <th></th>\n",
       "      <th></th>\n",
       "      <th></th>\n",
       "      <th></th>\n",
       "    </tr>\n",
       "  </thead>\n",
       "  <tbody>\n",
       "    <tr>\n",
       "      <th>Basic</th>\n",
       "      <td>49999.331883</td>\n",
       "      <td>50.363251</td>\n",
       "      <td>0.43755</td>\n",
       "      <td>0.423927</td>\n",
       "      <td>50.318374</td>\n",
       "      <td>50181.889410</td>\n",
       "      <td>5.513566</td>\n",
       "      <td>5.535661</td>\n",
       "      <td>2005.469376</td>\n",
       "      <td>0.499485</td>\n",
       "      <td>5045.484946</td>\n",
       "      <td>5034.319977</td>\n",
       "      <td>553.342416</td>\n",
       "      <td>0.502576</td>\n",
       "      <td>4.990841</td>\n",
       "      <td>5.005929e+06</td>\n",
       "    </tr>\n",
       "    <tr>\n",
       "      <th>Luxury</th>\n",
       "      <td>48977.982609</td>\n",
       "      <td>50.324901</td>\n",
       "      <td>1.00000</td>\n",
       "      <td>1.000000</td>\n",
       "      <td>49.985771</td>\n",
       "      <td>50526.527273</td>\n",
       "      <td>5.486166</td>\n",
       "      <td>5.425296</td>\n",
       "      <td>2005.620553</td>\n",
       "      <td>0.502767</td>\n",
       "      <td>4947.611067</td>\n",
       "      <td>4984.443478</td>\n",
       "      <td>551.593676</td>\n",
       "      <td>0.505929</td>\n",
       "      <td>5.020553</td>\n",
       "      <td>4.907260e+06</td>\n",
       "    </tr>\n",
       "  </tbody>\n",
       "</table>\n",
       "</div>"
      ],
      "text/plain": [
       "          Building_Size(m)  Num_of_Rooms  Has_Yard  Has_Pool  Num_of_Floors  \\\n",
       "Category                                                                      \n",
       "Basic         49999.331883     50.363251   0.43755  0.423927      50.318374   \n",
       "Luxury        48977.982609     50.324901   1.00000  1.000000      49.985771   \n",
       "\n",
       "             City_Code  City_Part_Range  Num_Previous_Owners   Year_Built  \\\n",
       "Category                                                                    \n",
       "Basic     50181.889410         5.513566             5.535661  2005.469376   \n",
       "Luxury    50526.527273         5.486166             5.425296  2005.620553   \n",
       "\n",
       "          Has_Storm_Protector  Basement_Size(m)  Attic_Size(m)  \\\n",
       "Category                                                         \n",
       "Basic                0.499485       5045.484946    5034.319977   \n",
       "Luxury               0.502767       4947.611067    4984.443478   \n",
       "\n",
       "          Garage_Size(m)  Has_Storage_Room  Num_of_Guest_Rooms         Price  \n",
       "Category                                                                      \n",
       "Basic         553.342416          0.502576            4.990841  5.005929e+06  \n",
       "Luxury        551.593676          0.505929            5.020553  4.907260e+06  "
      ]
     },
     "execution_count": 74,
     "metadata": {},
     "output_type": "execute_result"
    }
   ],
   "source": [
    "#Looking at values based on categories\n",
    "#Looking at the binary values shows a few things.  Every Luxury home has: Pool, Newly Built,Has Yard and Has Pool\n",
    "paris_df.groupby([\"Category\"]).mean()"
   ]
  },
  {
   "cell_type": "markdown",
   "metadata": {},
   "source": [
    "May remove isNewBuilt because it doesnt offer any newer information than the year it was made...redundant"
   ]
  },
  {
   "cell_type": "code",
   "execution_count": 75,
   "metadata": {},
   "outputs": [
    {
     "data": {
      "text/plain": [
       "Index(['Building_Size(m)', 'Num_of_Rooms', 'Has_Yard', 'Has_Pool',\n",
       "       'Num_of_Floors', 'City_Code', 'City_Part_Range', 'Num_Previous_Owners',\n",
       "       'Year_Built', 'Has_Storm_Protector', 'Basement_Size(m)',\n",
       "       'Attic_Size(m)', 'Garage_Size(m)', 'Has_Storage_Room',\n",
       "       'Num_of_Guest_Rooms', 'Price', 'Category'],\n",
       "      dtype='object')"
      ]
     },
     "execution_count": 75,
     "metadata": {},
     "output_type": "execute_result"
    }
   ],
   "source": [
    "#Pair plot for quick view of the datasets distribution \n",
    "#sns.set(rc={'figure.figsize':(20,15)})\n",
    "#sns.pairplot(paris_df)\n",
    "paris_df.columns"
   ]
  },
  {
   "cell_type": "markdown",
   "metadata": {
    "collapsed": true
   },
   "source": [
    "#Plot the aVERAGE Price versus Luxury Basic\n",
    "\n",
    "fig,ax = plt.subplots(figsize =(10,10), facecolor = \"white\")\n",
    "\n",
    "ax.hist( paris_df[\"price\"])\n",
    "plt.ylim([0, 1000000])\n",
    "\n",
    "ax.legend(labels = [\"Basic\", \"Luxury\"])\n"
   ]
  },
  {
   "cell_type": "code",
   "execution_count": 76,
   "metadata": {},
   "outputs": [],
   "source": [
    "#Confusion Matrix - Think about loop through some of the categorixal numbers\n",
    "#Create array with categorical numbers\n",
    "#pd.crosstab(pdf[\"Category\"],pdf[\"Has_Pool\"])"
   ]
  },
  {
   "cell_type": "code",
   "execution_count": 77,
   "metadata": {},
   "outputs": [
    {
     "data": {
      "image/png": "[encoded data removed]",
      "text/plain": [
       "<Figure size 720x432 with 1 Axes>"
      ]
     },
     "metadata": {},
     "output_type": "display_data"
    }
   ],
   "source": [
    "# Model the Category variables vs the Price Histogram with Legend Homecount\n",
    "#Show a cross tab table\n",
    "fig, ax = plt.subplots(figsize=(10, 6),facecolor = \"white\")\n"
   ]
  },
  {
   "cell_type": "markdown",
   "metadata": {},
   "source": [
    "# Data Preparation"
   ]
  },
  {
   "cell_type": "code",
   "execution_count": 238,
   "metadata": {},
   "outputs": [
    {
     "data": {
      "text/plain": [
       "<AxesSubplot:title={'center':'Verify that class distributuion in train is same as input data'}, xlabel='Category'>"
      ]
     },
     "execution_count": 238,
     "metadata": {},
     "output_type": "execute_result"
    },
    {
     "data": {
      "image/png": "[encoded data removed]",
      "text/plain": [
       "<Figure size 2160x2160 with 1 Axes>"
      ]
     },
     "metadata": {},
     "output_type": "display_data"
    }
   ],
   "source": [
    "#Distribution of Category Variables\n",
    "pdf.pivot_table(index='Category', aggfunc='size').plot(kind='bar', title='Verify that class distributuion in train is same as input data')\n"
   ]
  },
  {
   "cell_type": "code",
   "execution_count": 83,
   "metadata": {},
   "outputs": [
    {
     "name": "stdout",
     "output_type": "stream",
     "text": [
      "Basic     2184\n",
      "Luxury     316\n",
      "Name: Category, dtype: int64\n",
      "Basic     6551\n",
      "Luxury     949\n",
      "Name: Category, dtype: int64\n"
     ]
    }
   ],
   "source": [
    "#Checking to see if the value counts are stratified for imbalance\n",
    "print(y_test.value_counts())\n",
    "print(y_train.value_counts())"
   ]
  },
  {
   "cell_type": "markdown",
   "metadata": {},
   "source": [
    "## Link to EDA Refernce to use\n",
    "https://www.kaggle.com/code/abdallahaboelkhair/paris-housing-eda-and-model-comparison"
   ]
  },
  {
   "cell_type": "markdown",
   "metadata": {},
   "source": [
    "#Copy original dataframe\n",
    "pdf = paris_df.copy()"
   ]
  },
  {
   "cell_type": "code",
   "execution_count": 79,
   "metadata": {},
   "outputs": [],
   "source": [
    "#Changing Basic and Luxury to numerical values in the Category Column\n",
    "#cat_dict = {\"Basic\":0, \"Luxury\":1}\n",
    "#pdf[\"Category\"] = pdf[\"Category\"].apply(lambda x:cat_dict[x])"
   ]
  },
  {
   "cell_type": "code",
   "execution_count": 80,
   "metadata": {},
   "outputs": [
    {
     "data": {
      "text/html": [
       "<div>\n",
       "<style scoped>\n",
       "    .dataframe tbody tr th:only-of-type {\n",
       "        vertical-align: middle;\n",
       "    }\n",
       "\n",
       "    .dataframe tbody tr th {\n",
       "        vertical-align: top;\n",
       "    }\n",
       "\n",
       "    .dataframe thead th {\n",
       "        text-align: right;\n",
       "    }\n",
       "</style>\n",
       "<table border=\"1\" class=\"dataframe\">\n",
       "  <thead>\n",
       "    <tr style=\"text-align: right;\">\n",
       "      <th></th>\n",
       "      <th>Building_Size(m)</th>\n",
       "      <th>Num_of_Rooms</th>\n",
       "      <th>Has_Yard</th>\n",
       "      <th>Has_Pool</th>\n",
       "      <th>Num_of_Floors</th>\n",
       "      <th>City_Code</th>\n",
       "      <th>City_Part_Range</th>\n",
       "      <th>Num_Previous_Owners</th>\n",
       "      <th>Year_Built</th>\n",
       "      <th>Has_Storm_Protector</th>\n",
       "      <th>Basement_Size(m)</th>\n",
       "      <th>Attic_Size(m)</th>\n",
       "      <th>Garage_Size(m)</th>\n",
       "      <th>Has_Storage_Room</th>\n",
       "      <th>Num_of_Guest_Rooms</th>\n",
       "      <th>Price</th>\n",
       "      <th>Category</th>\n",
       "    </tr>\n",
       "  </thead>\n",
       "  <tbody>\n",
       "    <tr>\n",
       "      <th>0</th>\n",
       "      <td>75523</td>\n",
       "      <td>3</td>\n",
       "      <td>0</td>\n",
       "      <td>1</td>\n",
       "      <td>63</td>\n",
       "      <td>9373</td>\n",
       "      <td>3</td>\n",
       "      <td>8</td>\n",
       "      <td>2005</td>\n",
       "      <td>1</td>\n",
       "      <td>4313</td>\n",
       "      <td>9005</td>\n",
       "      <td>956</td>\n",
       "      <td>0</td>\n",
       "      <td>7</td>\n",
       "      <td>7559081.5</td>\n",
       "      <td>Basic</td>\n",
       "    </tr>\n",
       "    <tr>\n",
       "      <th>1</th>\n",
       "      <td>80771</td>\n",
       "      <td>39</td>\n",
       "      <td>1</td>\n",
       "      <td>1</td>\n",
       "      <td>98</td>\n",
       "      <td>39381</td>\n",
       "      <td>8</td>\n",
       "      <td>6</td>\n",
       "      <td>2015</td>\n",
       "      <td>0</td>\n",
       "      <td>3653</td>\n",
       "      <td>2436</td>\n",
       "      <td>128</td>\n",
       "      <td>1</td>\n",
       "      <td>2</td>\n",
       "      <td>8085989.5</td>\n",
       "      <td>Luxury</td>\n",
       "    </tr>\n",
       "    <tr>\n",
       "      <th>2</th>\n",
       "      <td>55712</td>\n",
       "      <td>58</td>\n",
       "      <td>0</td>\n",
       "      <td>1</td>\n",
       "      <td>19</td>\n",
       "      <td>34457</td>\n",
       "      <td>6</td>\n",
       "      <td>8</td>\n",
       "      <td>2021</td>\n",
       "      <td>0</td>\n",
       "      <td>2937</td>\n",
       "      <td>8852</td>\n",
       "      <td>135</td>\n",
       "      <td>1</td>\n",
       "      <td>9</td>\n",
       "      <td>5574642.1</td>\n",
       "      <td>Basic</td>\n",
       "    </tr>\n",
       "    <tr>\n",
       "      <th>3</th>\n",
       "      <td>32316</td>\n",
       "      <td>47</td>\n",
       "      <td>0</td>\n",
       "      <td>0</td>\n",
       "      <td>6</td>\n",
       "      <td>27939</td>\n",
       "      <td>10</td>\n",
       "      <td>4</td>\n",
       "      <td>2012</td>\n",
       "      <td>1</td>\n",
       "      <td>659</td>\n",
       "      <td>7141</td>\n",
       "      <td>359</td>\n",
       "      <td>0</td>\n",
       "      <td>3</td>\n",
       "      <td>3232561.2</td>\n",
       "      <td>Basic</td>\n",
       "    </tr>\n",
       "    <tr>\n",
       "      <th>4</th>\n",
       "      <td>70429</td>\n",
       "      <td>19</td>\n",
       "      <td>1</td>\n",
       "      <td>1</td>\n",
       "      <td>90</td>\n",
       "      <td>38045</td>\n",
       "      <td>3</td>\n",
       "      <td>7</td>\n",
       "      <td>1990</td>\n",
       "      <td>0</td>\n",
       "      <td>8435</td>\n",
       "      <td>2429</td>\n",
       "      <td>292</td>\n",
       "      <td>1</td>\n",
       "      <td>4</td>\n",
       "      <td>7055052.0</td>\n",
       "      <td>Luxury</td>\n",
       "    </tr>\n",
       "  </tbody>\n",
       "</table>\n",
       "</div>"
      ],
      "text/plain": [
       "   Building_Size(m)  Num_of_Rooms  Has_Yard  Has_Pool  Num_of_Floors  \\\n",
       "0             75523             3         0         1             63   \n",
       "1             80771            39         1         1             98   \n",
       "2             55712            58         0         1             19   \n",
       "3             32316            47         0         0              6   \n",
       "4             70429            19         1         1             90   \n",
       "\n",
       "   City_Code  City_Part_Range  Num_Previous_Owners  Year_Built  \\\n",
       "0       9373                3                    8        2005   \n",
       "1      39381                8                    6        2015   \n",
       "2      34457                6                    8        2021   \n",
       "3      27939               10                    4        2012   \n",
       "4      38045                3                    7        1990   \n",
       "\n",
       "   Has_Storm_Protector  Basement_Size(m)  Attic_Size(m)  Garage_Size(m)  \\\n",
       "0                    1              4313           9005             956   \n",
       "1                    0              3653           2436             128   \n",
       "2                    0              2937           8852             135   \n",
       "3                    1               659           7141             359   \n",
       "4                    0              8435           2429             292   \n",
       "\n",
       "   Has_Storage_Room  Num_of_Guest_Rooms      Price Category  \n",
       "0                 0                   7  7559081.5    Basic  \n",
       "1                 1                   2  8085989.5   Luxury  \n",
       "2                 1                   9  5574642.1    Basic  \n",
       "3                 0                   3  3232561.2    Basic  \n",
       "4                 1                   4  7055052.0   Luxury  "
      ]
     },
     "execution_count": 80,
     "metadata": {},
     "output_type": "execute_result"
    }
   ],
   "source": [
    "pdf.head()"
   ]
  },
  {
   "cell_type": "code",
   "execution_count": 81,
   "metadata": {},
   "outputs": [],
   "source": [
    "X = paris_df.drop(\"Category\", axis = 1)\n",
    "y = paris_df[\"Category\"]\n",
    "X_train, X_test, y_train, y_test = train_test_split(X,y, random_state = 42, stratify = y)"
   ]
  },
  {
   "cell_type": "markdown",
   "metadata": {},
   "source": [
    "# Modeling"
   ]
  },
  {
   "cell_type": "markdown",
   "metadata": {},
   "source": [
    "## Model 1 - Dummy Classifier Model "
   ]
  },
  {
   "cell_type": "markdown",
   "metadata": {},
   "source": [
    "[Dummy Classifier- Abiheet Sahoo, 2020 ](https://towardsai.net/p/data-science/dealing-with-class-imbalance%E2%80%8A-%E2%80%8A-dummy-classifiers)"
   ]
  },
  {
   "cell_type": "code",
   "execution_count": 84,
   "metadata": {},
   "outputs": [
    {
     "data": {
      "text/plain": [
       "DummyClassifier(strategy='most_frequent')"
      ]
     },
     "execution_count": 84,
     "metadata": {},
     "output_type": "execute_result"
    }
   ],
   "source": [
    "dummy_paris_df = DummyClassifier(strategy=\"most_frequent\")\n",
    "dummy_paris_df.fit(X_train, y_train)\n"
   ]
  },
  {
   "cell_type": "code",
   "execution_count": 85,
   "metadata": {},
   "outputs": [
    {
     "data": {
      "text/plain": [
       "0.8734666666666666"
      ]
     },
     "execution_count": 85,
     "metadata": {},
     "output_type": "execute_result"
    }
   ],
   "source": [
    "cv_results = cross_val_score(dummy_paris_df, X_train, y_train, cv=5)\n",
    "cv_results.mean()"
   ]
  },
  {
   "cell_type": "code",
   "execution_count": 86,
   "metadata": {},
   "outputs": [
    {
     "name": "stdout",
     "output_type": "stream",
     "text": [
      "Percent of guess Luxury Accuracy=  0.13 %\n"
     ]
    }
   ],
   "source": [
    "#Score of guessing Luxury\n",
    "print(\"Percent of guess Luxury Accuracy= \", round(1-cv_results.mean(),2), \"%\")"
   ]
  },
  {
   "cell_type": "code",
   "execution_count": 87,
   "metadata": {},
   "outputs": [
    {
     "data": {
      "image/png": "[encoded data removed]",
      "text/plain": [
       "<Figure size 720x720 with 2 Axes>"
      ]
     },
     "metadata": {},
     "output_type": "display_data"
    }
   ],
   "source": [
    "fig, ax = plt.subplots(figsize = (10,10), facecolor = \"white\")\n",
    "fig.suptitle(\"Dummy Paris Model\")\n",
    "plot_confusion_matrix(dummy_paris_df, X_test, y_test, ax=ax, cmap=\"plasma\");\n",
    "#Increase the font size in the labels"
   ]
  },
  {
   "cell_type": "code",
   "execution_count": 88,
   "metadata": {},
   "outputs": [
    {
     "data": {
      "text/plain": [
       "<sklearn.metrics._plot.roc_curve.RocCurveDisplay at 0x7fe5c2033580>"
      ]
     },
     "execution_count": 88,
     "metadata": {},
     "output_type": "execute_result"
    },
    {
     "data": {
      "image/png": "[encoded data removed]",
      "text/plain": [
       "<Figure size 720x720 with 1 Axes>"
      ]
     },
     "metadata": {},
     "output_type": "display_data"
    }
   ],
   "source": [
    "fig, ax = plt.subplots(figsize = (10,10), facecolor = \"white\")\n",
    "fig.suptitle(\"Dummy Paris ROC Curve\")\n",
    "plot_roc_curve(dummy_paris_df, X_test, y_test, ax=ax)\n",
    "#Increase the font size and labels"
   ]
  },
  {
   "cell_type": "markdown",
   "metadata": {},
   "source": [
    "What does this tell me?"
   ]
  },
  {
   "cell_type": "markdown",
   "metadata": {},
   "source": [
    "## Model 2.1 - Logistic Regression Model (Simple Model)"
   ]
  },
  {
   "cell_type": "code",
   "execution_count": 245,
   "metadata": {},
   "outputs": [],
   "source": [
    "#Function to predict from fitted model\n",
    "def simple_model_predict(fit_model,X):\n",
    "    \n",
    "    y_pred = fit_model.predict(X)\n",
    "    y_pred_prob = fit_model.predict_proba(X)\n",
    "    return y_pred, y_pred_prob"
   ]
  },
  {
   "cell_type": "code",
   "execution_count": 293,
   "metadata": {},
   "outputs": [],
   "source": [
    "#Calculating precision, recall and f1\n",
    "def precision_recall(y_true,y_pred,pos_label = \"Luxury\"):\n",
    "    \n",
    "    precision = precision_score(y_true, y_pred, pos_label=pos_label)\n",
    "    recall = np.mean(recall_score(y_true, y_pred, pos_label=pos_label))\n",
    "    f1 = f1_score(y_true, y_pred, pos_label=pos_label)\n",
    "    \n",
    "    print (\"The Precision score is: {}\".format(precision))\n",
    "    print (\"The Recall score is: {}\".format(recall))\n",
    "    print (\"The F1 score is: {}\".format(f1))\n",
    "    print(\"\\n\")\n",
    "    return precision, recall, f1"
   ]
  },
  {
   "cell_type": "code",
   "execution_count": null,
   "metadata": {},
   "outputs": [],
   "source": [
    "def cross_matrix_val():\n",
    "    #Get cross matrix values"
   ]
  },
  {
   "cell_type": "code",
   "execution_count": 246,
   "metadata": {},
   "outputs": [],
   "source": [
    "#Instantiate\n",
    "lr_simple = LogisticRegression(random_state = 42,penalty= \"none\") \n",
    "#Fit training data\n",
    "lr_simple.fit(X_train,y_train)\n",
    "#Predict with Train\n",
    "lr_y_train_pred,lr_y_train_pred_prob  = simple_model_predict(lr_simple,X_train)\n",
    "#Predict with Train\n",
    "lr_y_trest_pred,lr_y_test_pred_prob  = simple_model_predict(lr_simple,X_test)\n"
   ]
  },
  {
   "cell_type": "code",
   "execution_count": 294,
   "metadata": {},
   "outputs": [
    {
     "name": "stdout",
     "output_type": "stream",
     "text": [
      "The Precision score is: 0.0\n",
      "The Recall score is: 0.0\n",
      "The F1 score is: 0.0\n",
      "\n",
      "\n"
     ]
    }
   ],
   "source": [
    "p,r,f = precision_recall(y_train, lr_y_train_pred,\"Luxury\")"
   ]
  },
  {
   "cell_type": "code",
   "execution_count": 266,
   "metadata": {
    "collapsed": true
   },
   "outputs": [
    {
     "ename": "TypeError",
     "evalue": "cross_val_score() got an unexpected keyword argument 'pos_label'",
     "output_type": "error",
     "traceback": [
      "\u001b[0;31m---------------------------------------------------------------------------\u001b[0m",
      "\u001b[0;31mTypeError\u001b[0m                                 Traceback (most recent call last)",
      "\u001b[0;32m<ipython-input-266-c0b626aad833>\u001b[0m in \u001b[0;36m<module>\u001b[0;34m\u001b[0m\n\u001b[1;32m      1\u001b[0m \u001b[0;31m#Precision, Recall and F1\u001b[0m\u001b[0;34m\u001b[0m\u001b[0;34m\u001b[0m\u001b[0;34m\u001b[0m\u001b[0m\n\u001b[1;32m      2\u001b[0m \u001b[0;31m#Train Score\u001b[0m\u001b[0;34m\u001b[0m\u001b[0;34m\u001b[0m\u001b[0;34m\u001b[0m\u001b[0m\n\u001b[0;32m----> 3\u001b[0;31m \u001b[0mprecision_recall\u001b[0m\u001b[0;34m(\u001b[0m\u001b[0mX_train\u001b[0m\u001b[0;34m,\u001b[0m \u001b[0my_train\u001b[0m\u001b[0;34m,\u001b[0m \u001b[0;34m\"precision\"\u001b[0m\u001b[0;34m,\u001b[0m \u001b[0;34m\"Luxury\"\u001b[0m\u001b[0;34m)\u001b[0m\u001b[0;34m\u001b[0m\u001b[0;34m\u001b[0m\u001b[0m\n\u001b[0m\u001b[1;32m      4\u001b[0m \u001b[0;31m#Trest Score\u001b[0m\u001b[0;34m\u001b[0m\u001b[0;34m\u001b[0m\u001b[0;34m\u001b[0m\u001b[0m\n\u001b[1;32m      5\u001b[0m \u001b[0mprecision_recall\u001b[0m\u001b[0;34m(\u001b[0m\u001b[0mlr_simple\u001b[0m\u001b[0;34m,\u001b[0m\u001b[0mX_test\u001b[0m\u001b[0;34m,\u001b[0m \u001b[0my_test\u001b[0m\u001b[0;34m,\u001b[0m \u001b[0;34m\"precision\"\u001b[0m\u001b[0;34m,\u001b[0m \u001b[0;34m\"Luxury\"\u001b[0m\u001b[0;34m)\u001b[0m\u001b[0;34m\u001b[0m\u001b[0;34m\u001b[0m\u001b[0m\n",
      "\u001b[0;32m<ipython-input-258-e0143a916565>\u001b[0m in \u001b[0;36mprecision_recall\u001b[0;34m(model, X_true, y_true, scoring, pos_label)\u001b[0m\n\u001b[1;32m      1\u001b[0m \u001b[0;32mdef\u001b[0m \u001b[0mprecision_recall\u001b[0m\u001b[0;34m(\u001b[0m\u001b[0mmodel\u001b[0m\u001b[0;34m,\u001b[0m\u001b[0mX_true\u001b[0m\u001b[0;34m,\u001b[0m\u001b[0my_true\u001b[0m\u001b[0;34m,\u001b[0m\u001b[0mscoring\u001b[0m\u001b[0;34m,\u001b[0m \u001b[0mpos_label\u001b[0m \u001b[0;34m=\u001b[0m \u001b[0;34m\"Luxury\"\u001b[0m\u001b[0;34m)\u001b[0m\u001b[0;34m:\u001b[0m\u001b[0;34m\u001b[0m\u001b[0;34m\u001b[0m\u001b[0m\n\u001b[1;32m      2\u001b[0m \u001b[0;34m\u001b[0m\u001b[0m\n\u001b[0;32m----> 3\u001b[0;31m     \u001b[0mp_score\u001b[0m \u001b[0;34m=\u001b[0m \u001b[0mcross_val_score\u001b[0m\u001b[0;34m(\u001b[0m\u001b[0mmodel\u001b[0m\u001b[0;34m,\u001b[0m \u001b[0mX_true\u001b[0m\u001b[0;34m,\u001b[0m \u001b[0my_true\u001b[0m\u001b[0;34m,\u001b[0m \u001b[0mscoring\u001b[0m \u001b[0;34m=\u001b[0m \u001b[0mscoring\u001b[0m\u001b[0;34m,\u001b[0m \u001b[0mpos_label\u001b[0m\u001b[0;34m=\u001b[0m \u001b[0mpos_label\u001b[0m\u001b[0;34m)\u001b[0m\u001b[0;34m\u001b[0m\u001b[0;34m\u001b[0m\u001b[0m\n\u001b[0m\u001b[1;32m      4\u001b[0m     \u001b[0mrec_score\u001b[0m \u001b[0;34m=\u001b[0m \u001b[0mcross_val_score\u001b[0m\u001b[0;34m(\u001b[0m\u001b[0mmodel\u001b[0m\u001b[0;34m,\u001b[0m \u001b[0mX_true\u001b[0m\u001b[0;34m,\u001b[0m \u001b[0my_true\u001b[0m\u001b[0;34m,\u001b[0m \u001b[0mscoring\u001b[0m \u001b[0;34m=\u001b[0m \u001b[0mscoring\u001b[0m\u001b[0;34m,\u001b[0m \u001b[0mpos_label\u001b[0m\u001b[0;34m=\u001b[0m\u001b[0mpos_label\u001b[0m\u001b[0;34m)\u001b[0m\u001b[0;34m\u001b[0m\u001b[0;34m\u001b[0m\u001b[0m\n\u001b[1;32m      5\u001b[0m     \u001b[0mf1_score\u001b[0m \u001b[0;34m=\u001b[0m \u001b[0mcross_val_score\u001b[0m\u001b[0;34m(\u001b[0m\u001b[0mmodel\u001b[0m\u001b[0;34m,\u001b[0m \u001b[0mX_true\u001b[0m\u001b[0;34m,\u001b[0m \u001b[0my_true\u001b[0m\u001b[0;34m,\u001b[0m \u001b[0mscoring\u001b[0m \u001b[0;34m=\u001b[0m \u001b[0mscoring\u001b[0m\u001b[0;34m,\u001b[0m \u001b[0mpos_label\u001b[0m\u001b[0;34m=\u001b[0m\u001b[0mpos_label\u001b[0m\u001b[0;34m)\u001b[0m\u001b[0;34m\u001b[0m\u001b[0;34m\u001b[0m\u001b[0m\n",
      "\u001b[0;32m~/opt/anaconda3/envs/learn-env/lib/python3.8/site-packages/sklearn/utils/validation.py\u001b[0m in \u001b[0;36minner_f\u001b[0;34m(*args, **kwargs)\u001b[0m\n\u001b[1;32m     70\u001b[0m                           FutureWarning)\n\u001b[1;32m     71\u001b[0m         \u001b[0mkwargs\u001b[0m\u001b[0;34m.\u001b[0m\u001b[0mupdate\u001b[0m\u001b[0;34m(\u001b[0m\u001b[0;34m{\u001b[0m\u001b[0mk\u001b[0m\u001b[0;34m:\u001b[0m \u001b[0marg\u001b[0m \u001b[0;32mfor\u001b[0m \u001b[0mk\u001b[0m\u001b[0;34m,\u001b[0m \u001b[0marg\u001b[0m \u001b[0;32min\u001b[0m \u001b[0mzip\u001b[0m\u001b[0;34m(\u001b[0m\u001b[0msig\u001b[0m\u001b[0;34m.\u001b[0m\u001b[0mparameters\u001b[0m\u001b[0;34m,\u001b[0m \u001b[0margs\u001b[0m\u001b[0;34m)\u001b[0m\u001b[0;34m}\u001b[0m\u001b[0;34m)\u001b[0m\u001b[0;34m\u001b[0m\u001b[0;34m\u001b[0m\u001b[0m\n\u001b[0;32m---> 72\u001b[0;31m         \u001b[0;32mreturn\u001b[0m \u001b[0mf\u001b[0m\u001b[0;34m(\u001b[0m\u001b[0;34m**\u001b[0m\u001b[0mkwargs\u001b[0m\u001b[0;34m)\u001b[0m\u001b[0;34m\u001b[0m\u001b[0;34m\u001b[0m\u001b[0m\n\u001b[0m\u001b[1;32m     73\u001b[0m     \u001b[0;32mreturn\u001b[0m \u001b[0minner_f\u001b[0m\u001b[0;34m\u001b[0m\u001b[0;34m\u001b[0m\u001b[0m\n\u001b[1;32m     74\u001b[0m \u001b[0;34m\u001b[0m\u001b[0m\n",
      "\u001b[0;31mTypeError\u001b[0m: cross_val_score() got an unexpected keyword argument 'pos_label'"
     ]
    }
   ],
   "source": [
    "precision_recall(y_train, lr_y_train_pred,\"Luxury\")\n",
    "\n",
    "#Precision, Recall and F1\n",
    "#Train Score\n",
    "precision_recall(X_train, y_train, \"precision\", \"Luxury\")\n",
    "#Trest Score\n",
    "precision_recall(lr_simple,X_test, y_test, \"precision\", \"Luxury\")"
   ]
  },
  {
   "cell_type": "markdown",
   "metadata": {},
   "source": [
    "###  Model 2.1 - Logistic Regression Model (Simple Model) Evaluation"
   ]
  },
  {
   "cell_type": "markdown",
   "metadata": {},
   "source": [
    "#### Training Data Evaluation"
   ]
  },
  {
   "cell_type": "code",
   "execution_count": 295,
   "metadata": {},
   "outputs": [
    {
     "data": {
      "text/plain": [
       "0.0"
      ]
     },
     "execution_count": 295,
     "metadata": {},
     "output_type": "execute_result"
    }
   ],
   "source": []
  },
  {
   "cell_type": "code",
   "execution_count": 90,
   "metadata": {},
   "outputs": [
    {
     "data": {
      "text/plain": [
       "0.8734666666666666"
      ]
     },
     "execution_count": 90,
     "metadata": {},
     "output_type": "execute_result"
    }
   ],
   "source": [
    "### Train\n",
    "scores = cross_val_score(lr_simple, X_train, y_train, cv=5 )\n",
    "scores.mean()"
   ]
  },
  {
   "cell_type": "code",
   "execution_count": null,
   "metadata": {},
   "outputs": [],
   "source": [
    "#Predict, Recall and F1\n",
    "lr_simple"
   ]
  },
  {
   "cell_type": "code",
   "execution_count": 91,
   "metadata": {},
   "outputs": [
    {
     "name": "stdout",
     "output_type": "stream",
     "text": [
      "              precision    recall  f1-score   support\n",
      "\n",
      "       Basic       0.87      1.00      0.93      6551\n",
      "      Luxury       0.00      0.00      0.00       949\n",
      "\n",
      "    accuracy                           0.87      7500\n",
      "   macro avg       0.44      0.50      0.47      7500\n",
      "weighted avg       0.76      0.87      0.81      7500\n",
      "\n"
     ]
    }
   ],
   "source": [
    "#Printing out report with scores -\n",
    "print(classification_report(y_train, lr_y_train_pred))"
   ]
  },
  {
   "cell_type": "code",
   "execution_count": 92,
   "metadata": {},
   "outputs": [],
   "source": [
    "#Speak to the ability to pick Precision of Basic and none for luxury...imbalanced data"
   ]
  },
  {
   "cell_type": "code",
   "execution_count": 93,
   "metadata": {},
   "outputs": [
    {
     "name": "stdout",
     "output_type": "stream",
     "text": [
      "[[6551    0]\n",
      " [ 949    0]]\n"
     ]
    }
   ],
   "source": [
    "#Print out array confusion matrix\n",
    "print(confusion_matrix(y_train, lr_y_train_pred, labels = [\"Basic\",\"Luxury\"]))"
   ]
  },
  {
   "cell_type": "code",
   "execution_count": 94,
   "metadata": {},
   "outputs": [
    {
     "data": {
      "image/png": "[encoded data removed]",
      "text/plain": [
       "<Figure size 720x720 with 2 Axes>"
      ]
     },
     "metadata": {},
     "output_type": "display_data"
    }
   ],
   "source": [
    "fig, ax = plt.subplots(figsize = (10,10), facecolor = \"white\")\n",
    "fig.suptitle(\"Log Regression Simple Model\")\n",
    "plot_confusion_matrix(lr_simple, X_train, y_train, ax=ax, cmap=\"plasma\");"
   ]
  },
  {
   "cell_type": "markdown",
   "metadata": {},
   "source": [
    "#### Test Data Evaluation"
   ]
  },
  {
   "cell_type": "code",
   "execution_count": 95,
   "metadata": {},
   "outputs": [
    {
     "data": {
      "text/plain": [
       "0.8736"
      ]
     },
     "execution_count": 95,
     "metadata": {},
     "output_type": "execute_result"
    }
   ],
   "source": [
    "scores = cross_val_score(lr_simple, X_test, y_test, cv=5 )\n",
    "scores.mean()"
   ]
  },
  {
   "cell_type": "code",
   "execution_count": 96,
   "metadata": {},
   "outputs": [
    {
     "name": "stdout",
     "output_type": "stream",
     "text": [
      "              precision    recall  f1-score   support\n",
      "\n",
      "       Basic       0.87      1.00      0.93      2184\n",
      "      Luxury       0.00      0.00      0.00       316\n",
      "\n",
      "    accuracy                           0.87      2500\n",
      "   macro avg       0.44      0.50      0.47      2500\n",
      "weighted avg       0.76      0.87      0.81      2500\n",
      "\n"
     ]
    }
   ],
   "source": [
    "#Printing out report with scores -\n",
    "print(classification_report(y_test, lr_y_test_pred))"
   ]
  },
  {
   "cell_type": "code",
   "execution_count": 97,
   "metadata": {},
   "outputs": [
    {
     "name": "stdout",
     "output_type": "stream",
     "text": [
      "[[2184    0]\n",
      " [ 316    0]]\n"
     ]
    }
   ],
   "source": [
    "#Print out array confusion matrix\n",
    "print(confusion_matrix(y_test, lr_y_test_pred, labels = [\"Basic\",\"Luxury\"]))"
   ]
  },
  {
   "cell_type": "code",
   "execution_count": 98,
   "metadata": {},
   "outputs": [
    {
     "data": {
      "image/png": "[encoded data removed]",
      "text/plain": [
       "<Figure size 720x720 with 2 Axes>"
      ]
     },
     "metadata": {},
     "output_type": "display_data"
    }
   ],
   "source": [
    "fig, ax = plt.subplots(figsize = (10,10), facecolor = \"white\")\n",
    "fig.suptitle(\"Log Regression Simple Model\")\n",
    "plot_confusion_matrix(lr_simple, X_test, y_test, ax=ax, cmap=\"plasma\");"
   ]
  },
  {
   "cell_type": "code",
   "execution_count": null,
   "metadata": {},
   "outputs": [],
   "source": []
  },
  {
   "cell_type": "code",
   "execution_count": 99,
   "metadata": {},
   "outputs": [],
   "source": [
    "# Precision decreased slightly with test data, but in the grand scheme of things still not good. Not able to correclty guess Luxury\n",
    "#Basics was incorreclty guess"
   ]
  },
  {
   "cell_type": "markdown",
   "metadata": {},
   "source": [
    "## Model 2.2 - Decision Tree Model (Simple Model)"
   ]
  },
  {
   "cell_type": "code",
   "execution_count": 100,
   "metadata": {},
   "outputs": [],
   "source": [
    "#Instantiate\n",
    "dt_simple = DecisionTreeClassifier(random_state=42, criterion=\"entropy\")\n",
    "#Fit training data\n",
    "dt_simple.fit(X_train,y_train)\n",
    "#Predict with test\n",
    "dt_y_train_pred = dt_simple.predict(X_train)\n",
    "dt_y_test_pred = dt_simple.predict(X_test)\n",
    "dt_y_test_prob = dt_simple.predict_proba(X_test)"
   ]
  },
  {
   "cell_type": "markdown",
   "metadata": {},
   "source": [
    "#### Train  Data Evaluation"
   ]
  },
  {
   "cell_type": "code",
   "execution_count": 101,
   "metadata": {},
   "outputs": [
    {
     "data": {
      "text/plain": [
       "0.8720000000000001"
      ]
     },
     "execution_count": 101,
     "metadata": {},
     "output_type": "execute_result"
    }
   ],
   "source": [
    "scores = cross_val_score(dt_simple, X_train, y_train, cv=5 )\n",
    "scores.mean()"
   ]
  },
  {
   "cell_type": "code",
   "execution_count": 102,
   "metadata": {},
   "outputs": [
    {
     "name": "stdout",
     "output_type": "stream",
     "text": [
      "              precision    recall  f1-score   support\n",
      "\n",
      "       Basic       1.00      1.00      1.00      6551\n",
      "      Luxury       1.00      1.00      1.00       949\n",
      "\n",
      "    accuracy                           1.00      7500\n",
      "   macro avg       1.00      1.00      1.00      7500\n",
      "weighted avg       1.00      1.00      1.00      7500\n",
      "\n"
     ]
    }
   ],
   "source": [
    "#Printing out report with scores -\n",
    "print(classification_report(y_train, dt_y_train_pred))"
   ]
  },
  {
   "cell_type": "code",
   "execution_count": 103,
   "metadata": {},
   "outputs": [
    {
     "name": "stdout",
     "output_type": "stream",
     "text": [
      "[[6551    0]\n",
      " [   0  949]]\n"
     ]
    }
   ],
   "source": [
    "print(confusion_matrix(y_train, dt_y_train_pred, labels = [\"Basic\",\"Luxury\"]))"
   ]
  },
  {
   "cell_type": "code",
   "execution_count": 104,
   "metadata": {
    "scrolled": true
   },
   "outputs": [
    {
     "data": {
      "image/png": "[encoded data removed]",
      "text/plain": [
       "<Figure size 720x720 with 2 Axes>"
      ]
     },
     "metadata": {},
     "output_type": "display_data"
    }
   ],
   "source": [
    "fig, ax = plt.subplots(figsize = (10,10), facecolor = \"white\")\n",
    "fig.suptitle(\"Decision Tree Simple Model\")\n",
    "plot_confusion_matrix(dt_simple, X_train, y_train, ax=ax, cmap=\"plasma\");"
   ]
  },
  {
   "cell_type": "markdown",
   "metadata": {},
   "source": [
    "#### Test Data Evaluation"
   ]
  },
  {
   "cell_type": "code",
   "execution_count": 105,
   "metadata": {},
   "outputs": [
    {
     "data": {
      "text/plain": [
       "0.8704000000000001"
      ]
     },
     "execution_count": 105,
     "metadata": {},
     "output_type": "execute_result"
    }
   ],
   "source": [
    "scores = cross_val_score(dt_simple, X_test, y_test, cv=5 )\n",
    "scores.mean()"
   ]
  },
  {
   "cell_type": "code",
   "execution_count": 106,
   "metadata": {},
   "outputs": [
    {
     "name": "stdout",
     "output_type": "stream",
     "text": [
      "[[2015  169]\n",
      " [ 170  146]]\n"
     ]
    }
   ],
   "source": [
    "print(confusion_matrix(y_test, dt_y_test_pred, labels = [\"Basic\",\"Luxury\"]))"
   ]
  },
  {
   "cell_type": "code",
   "execution_count": 107,
   "metadata": {},
   "outputs": [
    {
     "name": "stdout",
     "output_type": "stream",
     "text": [
      "              precision    recall  f1-score   support\n",
      "\n",
      "       Basic       0.92      0.92      0.92      2184\n",
      "      Luxury       0.46      0.46      0.46       316\n",
      "\n",
      "    accuracy                           0.86      2500\n",
      "   macro avg       0.69      0.69      0.69      2500\n",
      "weighted avg       0.86      0.86      0.86      2500\n",
      "\n"
     ]
    }
   ],
   "source": [
    "print(classification_report(y_test, dt_y_test_pred))"
   ]
  },
  {
   "cell_type": "code",
   "execution_count": 108,
   "metadata": {},
   "outputs": [
    {
     "data": {
      "image/png": "[encoded data removed]",
      "text/plain": [
       "<Figure size 720x720 with 2 Axes>"
      ]
     },
     "metadata": {},
     "output_type": "display_data"
    }
   ],
   "source": [
    "fig, ax = plt.subplots(figsize = (10,10), facecolor = \"white\")\n",
    "fig.suptitle(\"Decision Tree Simple Model\")\n",
    "plot_confusion_matrix(dt_simple, X_test, y_test, ax=ax, cmap=\"plasma\");"
   ]
  },
  {
   "cell_type": "markdown",
   "metadata": {},
   "source": [
    "[Explaination of Precsion/Recall Curve Use](https://machinelearningmastery.com/roc-curves-and-precision-recall-curves-for-classification-in-python/)"
   ]
  },
  {
   "cell_type": "code",
   "execution_count": 109,
   "metadata": {},
   "outputs": [
    {
     "name": "stdout",
     "output_type": "stream",
     "text": [
      "auc: 0.5\n"
     ]
    }
   ],
   "source": [
    "## Add the Precision/Recall Curve to the decison tree stuff\n",
    "#probability of luxury scores only\n",
    "\n",
    "dt_precision,dt_recall, _ = precision_recall_curve(y_test, dt_y_test_prob[:,1],pos_label=[ \"Luxury\"])\n",
    "#dt_f1 = f1_score(y_test, dt_y_test_pred, pos_label=['Basic', 'Luxury']) \n",
    "dt_auc =  auc(dt_recall, dt_precision)\n",
    "print(\"auc:\", round(dt_auc,2))\n",
    "#print('Logistic: f1=%.3f auc=%.3f' % (lr_f1, lr_auc))            "
   ]
  },
  {
   "cell_type": "code",
   "execution_count": 110,
   "metadata": {},
   "outputs": [
    {
     "data": {
      "text/plain": [
       "<matplotlib.legend.Legend at 0x7fe5c1f49d90>"
      ]
     },
     "execution_count": 110,
     "metadata": {},
     "output_type": "execute_result"
    },
    {
     "data": {
      "image/png": "[encoded data removed]",
      "text/plain": [
       "<Figure size 432x288 with 1 Axes>"
      ]
     },
     "metadata": {
      "needs_background": "light"
     },
     "output_type": "display_data"
    }
   ],
   "source": [
    "plt.plot(dt_recall, dt_precision, marker='.', label='Luxury')\n",
    "#axis labels\n",
    "plt.title(\"Decision Tree Precision-Recall Curve\")\n",
    "plt.xlabel(\"Recall\")\n",
    "plt.ylabel(\"Precision\")\n",
    "#Legend\n",
    "plt.legend()"
   ]
  },
  {
   "cell_type": "code",
   "execution_count": 111,
   "metadata": {},
   "outputs": [],
   "source": [
    "## Optional, show visualization of tree"
   ]
  },
  {
   "cell_type": "markdown",
   "metadata": {},
   "source": [
    "## Model 2.3 - Random Forest Model (Simple Model)"
   ]
  },
  {
   "cell_type": "code",
   "execution_count": 112,
   "metadata": {},
   "outputs": [],
   "source": [
    "#Instantiate\n",
    "rf_simple = RandomForestClassifier(random_state = 42) \n",
    "#Fit training data\n",
    "rf_simple.fit(X_train,y_train)\n",
    "#Predict with test\n",
    "rf_y_train_pred = rf_simple.predict(X_train)\n",
    "rf_y_test_pred = rf_simple.predict(X_test)\n",
    "rf_y_test_prob = rf_simple.predict_proba(X_test)"
   ]
  },
  {
   "cell_type": "markdown",
   "metadata": {},
   "source": [
    "#### Train Data Evaluation"
   ]
  },
  {
   "cell_type": "code",
   "execution_count": 113,
   "metadata": {},
   "outputs": [
    {
     "data": {
      "text/plain": [
       "0.8661333333333333"
      ]
     },
     "execution_count": 113,
     "metadata": {},
     "output_type": "execute_result"
    }
   ],
   "source": [
    "scores = cross_val_score(rf_simple, X_train, y_train, cv=5 )\n",
    "scores.mean()"
   ]
  },
  {
   "cell_type": "code",
   "execution_count": 114,
   "metadata": {},
   "outputs": [
    {
     "name": "stdout",
     "output_type": "stream",
     "text": [
      "[[6551    0]\n",
      " [   0  949]]\n"
     ]
    }
   ],
   "source": [
    "print(confusion_matrix(y_train, rf_y_train_pred, labels = [\"Basic\",\"Luxury\"]))"
   ]
  },
  {
   "cell_type": "code",
   "execution_count": 115,
   "metadata": {},
   "outputs": [
    {
     "name": "stdout",
     "output_type": "stream",
     "text": [
      "              precision    recall  f1-score   support\n",
      "\n",
      "       Basic       1.00      1.00      1.00      6551\n",
      "      Luxury       1.00      1.00      1.00       949\n",
      "\n",
      "    accuracy                           1.00      7500\n",
      "   macro avg       1.00      1.00      1.00      7500\n",
      "weighted avg       1.00      1.00      1.00      7500\n",
      "\n"
     ]
    }
   ],
   "source": [
    "print(classification_report(y_train, rf_y_train_pred))"
   ]
  },
  {
   "cell_type": "markdown",
   "metadata": {},
   "source": [
    "#### Test Data Evaluation"
   ]
  },
  {
   "cell_type": "code",
   "execution_count": 116,
   "metadata": {},
   "outputs": [
    {
     "data": {
      "text/plain": [
       "0.8720000000000001"
      ]
     },
     "execution_count": 116,
     "metadata": {},
     "output_type": "execute_result"
    }
   ],
   "source": [
    "scores = cross_val_score(rf_simple, X_test, y_test, cv=5 )\n",
    "scores.mean()"
   ]
  },
  {
   "cell_type": "code",
   "execution_count": 117,
   "metadata": {},
   "outputs": [
    {
     "name": "stdout",
     "output_type": "stream",
     "text": [
      "[[2080  104]\n",
      " [ 204  112]]\n"
     ]
    }
   ],
   "source": [
    "print(confusion_matrix(y_test, rf_y_test_pred, labels = [\"Basic\",\"Luxury\"]))"
   ]
  },
  {
   "cell_type": "code",
   "execution_count": 118,
   "metadata": {},
   "outputs": [
    {
     "name": "stdout",
     "output_type": "stream",
     "text": [
      "              precision    recall  f1-score   support\n",
      "\n",
      "       Basic       0.91      0.95      0.93      2184\n",
      "      Luxury       0.52      0.35      0.42       316\n",
      "\n",
      "    accuracy                           0.88      2500\n",
      "   macro avg       0.71      0.65      0.68      2500\n",
      "weighted avg       0.86      0.88      0.87      2500\n",
      "\n"
     ]
    }
   ],
   "source": [
    "print(classification_report(y_test, rf_y_test_pred))"
   ]
  },
  {
   "cell_type": "code",
   "execution_count": 119,
   "metadata": {},
   "outputs": [
    {
     "data": {
      "image/png": "[encoded data removed]",
      "text/plain": [
       "<Figure size 720x720 with 2 Axes>"
      ]
     },
     "metadata": {},
     "output_type": "display_data"
    }
   ],
   "source": [
    "fig, ax = plt.subplots(figsize = (10,10), facecolor = \"white\")\n",
    "fig.suptitle(\"Random Forest Simple Model\")\n",
    "plot_confusion_matrix(rf_simple, X_test, y_test, ax=ax,normalize = \"true\", cmap=\"plasma\");"
   ]
  },
  {
   "cell_type": "code",
   "execution_count": 120,
   "metadata": {},
   "outputs": [
    {
     "name": "stdout",
     "output_type": "stream",
     "text": [
      "auc: 0.49\n"
     ]
    }
   ],
   "source": [
    "## Add the Precision/Recall Curve to the decison tree stuff\n",
    "#probability of luxury scores only\n",
    "\n",
    "\n",
    "rf_precision,rf_recall, _ = precision_recall_curve(y_test, rf_y_test_prob[:,1],pos_label=[ \"Luxury\"])\n",
    "rf_auc =  auc(rf_recall, rf_precision)\n",
    "print(\"auc:\", round(rf_auc,2))\n"
   ]
  },
  {
   "cell_type": "code",
   "execution_count": 121,
   "metadata": {},
   "outputs": [
    {
     "data": {
      "text/plain": [
       "array([1.        , 0.99683544, 0.99367089, 0.99050633, 0.98734177,\n",
       "       0.98417722, 0.97151899, 0.95886076, 0.94936709, 0.93670886,\n",
       "       0.91139241, 0.88291139, 0.86708861, 0.83544304, 0.80379747,\n",
       "       0.78481013, 0.75632911, 0.70886076, 0.66455696, 0.61708861,\n",
       "       0.55379747, 0.49683544, 0.44303797, 0.39873418, 0.35443038,\n",
       "       0.31012658, 0.25949367, 0.23101266, 0.18987342, 0.15189873,\n",
       "       0.10443038, 0.08227848, 0.07278481, 0.04746835, 0.02848101,\n",
       "       0.02531646, 0.0221519 , 0.01582278, 0.01582278, 0.01265823,\n",
       "       0.00632911, 0.00316456, 0.00316456, 0.        , 0.        ])"
      ]
     },
     "execution_count": 121,
     "metadata": {},
     "output_type": "execute_result"
    }
   ],
   "source": [
    "rf_recall"
   ]
  },
  {
   "cell_type": "code",
   "execution_count": 122,
   "metadata": {},
   "outputs": [
    {
     "data": {
      "text/plain": [
       "<matplotlib.legend.Legend at 0x7fe5e913fe20>"
      ]
     },
     "execution_count": 122,
     "metadata": {},
     "output_type": "execute_result"
    },
    {
     "data": {
      "image/png": "[encoded data removed]",
      "text/plain": [
       "<Figure size 432x288 with 1 Axes>"
      ]
     },
     "metadata": {
      "needs_background": "light"
     },
     "output_type": "display_data"
    }
   ],
   "source": [
    "plt.plot(rf_recall, rf_precision, marker='.', label='Luxury')\n",
    "#axis labels\n",
    "plt.title(\"Random Forest Precision-Recall Curve\")\n",
    "plt.xlabel(\"Recall\")\n",
    "plt.ylabel(\"Precision\")\n",
    "#Legend\n",
    "plt.legend()"
   ]
  },
  {
   "cell_type": "markdown",
   "metadata": {},
   "source": [
    "## Model 2.4 - KNN Model (Simple Model) - Time Permitting"
   ]
  },
  {
   "cell_type": "markdown",
   "metadata": {},
   "source": [
    "## Data Prep - SMOTE [Imbalance] and scale and Pipeline\n",
    "[Logistric Regression Cumulative Lab](https://github.com/learn-co-curriculum/dsc-logistic-regression-lab/tree/solution)"
   ]
  },
  {
   "cell_type": "markdown",
   "metadata": {},
   "source": [
    "#### Log Reg with smote non pipleline"
   ]
  },
  {
   "cell_type": "code",
   "execution_count": 123,
   "metadata": {},
   "outputs": [],
   "source": [
    "#Smote, Scaler Pipeline\n",
    "#Fit Training\n",
    "#Predict Training \n",
    "#Predict Test\n",
    "\n",
    "#Score training\n",
    "#Score Test\n",
    "#Confusion Matrix\n",
    "#Report\n",
    "#Precision Recall Curve"
   ]
  },
  {
   "cell_type": "code",
   "execution_count": null,
   "metadata": {},
   "outputs": [],
   "source": []
  },
  {
   "cell_type": "code",
   "execution_count": 288,
   "metadata": {},
   "outputs": [
    {
     "name": "stdout",
     "output_type": "stream",
     "text": [
      "The Precision score is: 0.5052410901467506\n",
      "\n",
      "\n"
     ]
    }
   ],
   "source": [
    "#{\"AUC\":\"roc_auc\", \"Accuracy\": \"accuracy\", \"F1\":\"f1\", \"Precision\":\"precision\", \"Recall\":\"recall\"}\n",
    "precision_recall(y_test, y_test_pred,\"Luxury\")"
   ]
  },
  {
   "cell_type": "code",
   "execution_count": 125,
   "metadata": {},
   "outputs": [
    {
     "name": "stdout",
     "output_type": "stream",
     "text": [
      "LogisticRegression(random_state=42) Classifier\n",
      "------------------------------------------------------------\n",
      "\n",
      "\n",
      "Pipeline(steps=[('ct', StandardScaler()), ('sm', SMOTE(random_state=42)),\n",
      "                ('lgr', LogisticRegression(random_state=42))])\n",
      "\n",
      "\n",
      "Training Accuracy score:0.87\n",
      "Testing Accuracy score:0.87\n",
      "\n",
      "\n",
      "Classification Report:\n",
      "               precision    recall  f1-score   support\n",
      "\n",
      "       Basic       1.00      0.85      0.92      2184\n",
      "      Luxury       0.50      1.00      0.67       316\n",
      "\n",
      "    accuracy                           0.87      2500\n",
      "   macro avg       0.75      0.93      0.79      2500\n",
      "weighted avg       0.94      0.87      0.89      2500\n",
      "\n",
      "\n",
      "\n",
      "Confusion Matrix: \n",
      " [[2080  104]\n",
      " [ 204  112]]\n",
      "\n",
      "\n",
      "\n",
      "\n",
      "------------------------------------------------------------\n",
      "\n",
      "\n",
      "DecisionTreeClassifier(random_state=42) Classifier\n",
      "------------------------------------------------------------\n",
      "\n",
      "\n",
      "Pipeline(steps=[('ct', StandardScaler()), ('sm', SMOTE(random_state=42)),\n",
      "                ('dt', DecisionTreeClassifier(random_state=42))])\n",
      "\n",
      "\n",
      "Training Accuracy score:1.00\n",
      "Testing Accuracy score:0.87\n",
      "\n",
      "\n",
      "Classification Report:\n",
      "               precision    recall  f1-score   support\n",
      "\n",
      "       Basic       0.93      0.92      0.93      2184\n",
      "      Luxury       0.49      0.53      0.51       316\n",
      "\n",
      "    accuracy                           0.87      2500\n",
      "   macro avg       0.71      0.72      0.72      2500\n",
      "weighted avg       0.88      0.87      0.87      2500\n",
      "\n",
      "\n",
      "\n",
      "Confusion Matrix: \n",
      " [[2080  104]\n",
      " [ 204  112]]\n",
      "\n",
      "\n",
      "\n",
      "\n",
      "------------------------------------------------------------\n",
      "\n",
      "\n",
      "RandomForestClassifier(random_state=42) Classifier\n",
      "------------------------------------------------------------\n",
      "\n",
      "\n",
      "Pipeline(steps=[('ct', StandardScaler()), ('sm', SMOTE(random_state=42)),\n",
      "                ('rf', RandomForestClassifier(random_state=42))])\n",
      "\n",
      "\n",
      "Training Accuracy score:1.00\n",
      "Testing Accuracy score:0.88\n",
      "\n",
      "\n",
      "Classification Report:\n",
      "               precision    recall  f1-score   support\n",
      "\n",
      "       Basic       0.96      0.89      0.93      2184\n",
      "      Luxury       0.51      0.76      0.61       316\n",
      "\n",
      "    accuracy                           0.88      2500\n",
      "   macro avg       0.73      0.83      0.77      2500\n",
      "weighted avg       0.91      0.88      0.89      2500\n",
      "\n",
      "\n",
      "\n",
      "Confusion Matrix: \n",
      " [[2080  104]\n",
      " [ 204  112]]\n",
      "\n",
      "\n",
      "\n",
      "\n",
      "------------------------------------------------------------\n",
      "\n",
      "\n"
     ]
    },
    {
     "data": {
      "text/plain": [
       "<Figure size 432x432 with 0 Axes>"
      ]
     },
     "metadata": {},
     "output_type": "display_data"
    },
    {
     "data": {
      "image/png": "[encoded data removed]",
      "text/plain": [
       "<Figure size 432x288 with 2 Axes>"
      ]
     },
     "metadata": {
      "needs_background": "light"
     },
     "output_type": "display_data"
    },
    {
     "data": {
      "image/png": "[encoded data removed]",
      "text/plain": [
       "<Figure size 432x432 with 1 Axes>"
      ]
     },
     "metadata": {
      "needs_background": "light"
     },
     "output_type": "display_data"
    },
    {
     "data": {
      "text/plain": [
       "<Figure size 432x432 with 0 Axes>"
      ]
     },
     "metadata": {},
     "output_type": "display_data"
    },
    {
     "data": {
      "image/png": "[encoded data removed]",
      "text/plain": [
       "<Figure size 432x288 with 2 Axes>"
      ]
     },
     "metadata": {
      "needs_background": "light"
     },
     "output_type": "display_data"
    },
    {
     "data": {
      "image/png": "[encoded data removed]",
      "text/plain": [
       "<Figure size 432x432 with 1 Axes>"
      ]
     },
     "metadata": {
      "needs_background": "light"
     },
     "output_type": "display_data"
    },
    {
     "data": {
      "text/plain": [
       "<Figure size 432x432 with 0 Axes>"
      ]
     },
     "metadata": {},
     "output_type": "display_data"
    },
    {
     "data": {
      "image/png": "[encoded data removed]",
      "text/plain": [
       "<Figure size 432x288 with 2 Axes>"
      ]
     },
     "metadata": {
      "needs_background": "light"
     },
     "output_type": "display_data"
    },
    {
     "data": {
      "image/png": "[encoded data removed]",
      "text/plain": [
       "<Figure size 432x432 with 1 Axes>"
      ]
     },
     "metadata": {
      "needs_background": "light"
     },
     "output_type": "display_data"
    }
   ],
   "source": [
    "#Create a function, run loop for each type of classifier\n",
    "#Log Regression, Decision Tree, Random Forest\n",
    "\n",
    "#Create Pipeline for each classifier \n",
    "# create list of classifiers \n",
    "clf_dict = {\"lgr\":LogisticRegression(random_state=42), \"dt\":DecisionTreeClassifier(random_state=42), \"rf\":RandomForestClassifier(random_state=42)}\n",
    "pipe_dict = {}\n",
    "for name,clf in clf_dict.items():\n",
    "    \n",
    "    #Name of Classifier\n",
    "    print(\"{} Classifier\".format(clf))\n",
    "    print('---' * 20)\n",
    "    print(\"\\n\")\n",
    "    \n",
    "    \n",
    "    #Create pipelines\n",
    "    imb_pipe = ImPipeline(steps=[('ct', StandardScaler()),\n",
    "                                 ('sm', SMOTE( random_state=42)),\n",
    "                                 (name, clf)])\n",
    "    \n",
    "    print(imb_pipe)\n",
    "    print(\"\\n\")\n",
    "    \n",
    "    #fitting the pipeline on the training data\n",
    "    imb_pipe.fit(X_train, y_train)\n",
    "    \n",
    "    \n",
    "    \n",
    "    #Training Accuracy score\n",
    "    print(\"Training Accuracy score:{0:0.2f}\".format(imb_pipe.score(X_train, y_train)))\n",
    "    \n",
    "    #Testing Accuracy score\n",
    "    print(\"Testing Accuracy score:{0:0.2f}\".format(imb_pipe.score(X_test, y_test)))\n",
    "    print(\"\\n\")\n",
    "    \n",
    "    #Creating a dictionary of the different pipelines\n",
    "    pipe_dict[name] = imb_pipe\n",
    "    \n",
    "    #Predicting the new data\n",
    "    y_test_pred = imb_pipe.predict(X_test)\n",
    "    \n",
    "    #Predicting the new data\n",
    "    y_test_prob = imb_pipe.predict_proba(X_test)\n",
    "    y_test_prob = y_test_prob[:,1]\n",
    "    \n",
    "    #Classification Report\n",
    "    print(\"Classification Report:\\n\",classification_report(y_test, y_test_pred))\n",
    "    print(\"\\n\")\n",
    "    \n",
    "    #Confusion Matrix\n",
    "    cf_matrix = confusion_matrix(y_test, rf_y_test_pred, labels = [\"Basic\",\"Luxury\"])\n",
    "    print(\"Confusion Matrix: \\n\", cf_matrix)\n",
    "    print(\"\\n\")\n",
    "    \n",
    "\n",
    "    #Plot Confusion Map Matrix\n",
    "    fig = plt.figure(figsize = (6,6), facecolor = \"white\")\n",
    "    fig.suptitle(\" {} with SMOTE\".format(clf))\n",
    "    plot_confusion_matrix(imb_pipe, X_test, y_test, cmap=\"plasma\")\n",
    "    print(\"\\n\")\n",
    " \n",
    "    #Plotting Precision-Recall Curve\n",
    "    precision, recall, _ = precision_recall_curve(y_test, y_test_prob, pos_label= \"Luxury\")\n",
    "    \n",
    "    fig= plt.figure(figsize = (6,6))\n",
    "    plt.step(recall, precision, marker='.', label='Luxury')\n",
    "    \n",
    "    #axis labels\n",
    "    plt.title(\"Precision-Recall Curve: {}\".format(clf))\n",
    "    plt.xlabel(\"Recall\")\n",
    "    plt.ylabel(\"Precision\")\n",
    "    \n",
    "    #Legend\n",
    "    plt.legend()\n",
    "    print('---' * 20)\n",
    "    print(\"\\n\")\n",
    "    \n",
    "    \n",
    "   \n",
    "   \n",
    "        \n",
    "    "
   ]
  },
  {
   "cell_type": "code",
   "execution_count": 126,
   "metadata": {},
   "outputs": [],
   "source": [
    "cus_rec = make_scorer(recall_score,pos_label=\"Luxury\")\n",
    "cus_prec = make_scorer(precision_score,pos_label=\"Luxury\")\n",
    "cus_f1 =  make_scorer(f1_score,pos_label=\"Luxury\")\n",
    "#cus_auc =  make_scorer()\n",
    "cus_accur =  make_scorer(accuracy_score)\n",
    "scoring = {\"Precision\":cus_prec,\"Rec\": cus_rec,\"F1\":cus_f1,\"Accuracy\":cus_accur}"
   ]
  },
  {
   "cell_type": "code",
   "execution_count": 127,
   "metadata": {},
   "outputs": [],
   "source": [
    "#Used to print out results form gridsearch\n",
    "\n",
    "def gridsearch_score(grid_name):\n",
    "    \n",
    "    print(\"Best Estimator:\", grid_name.best_estimator_)\n",
    "    print(\"\\n\")\n",
    "    print(\"Best Paremeters:\", grid_name.best_params_) \n",
    "    print(\"\\n\")\n",
    "    print(\"Best Precision Score:\", grid_name.best_score_)\n",
    "    print(\"\\n\") \n",
    "\n",
    "    #Getting prediction value\n",
    "    gs_y_pred_train = grid_name.predict(X_train)\n",
    "    #Getting prediction value\n",
    "    gs_y_pred_test = grid_name.predict(X_test)\n",
    "    \n",
    "    \n",
    "    #Checking our metrics to see how well our model performed\n",
    "    print(\"Best Train Estimator Score:\", grid_name.best_estimator_.score(X_train, gs_y_pred_train))\n",
    "    print(\"Train Classification Report:\\n\", classification_report(y_train, gs_y_pred_train))\n",
    "    print(\"\\n\")\n",
    "    print(\"Best Train Estimator Score:\", grid_name.best_estimator_.score(X_test, gs_y_pred_test))\n",
    "    print(\"Test Classification Report:\\n\", classification_report(y_test, gs_y_pred_test))\n",
    "    print('---' * 20)\n",
    "    print(\"\\n\")\n",
    "    "
   ]
  },
  {
   "cell_type": "markdown",
   "metadata": {},
   "source": [
    "### LogisticRegression GridsearchCV"
   ]
  },
  {
   "cell_type": "code",
   "execution_count": 128,
   "metadata": {},
   "outputs": [],
   "source": [
    "parameters = {\"sm__sampling_strategy\":[\"minority\",.2,.6],\n",
    "                      'lgr__penalty': [\"none\",\"l1\"'l2', 'elasticnet'],\n",
    "                      'lgr__solver': [\"lbfgs\", \"liblinear\", \"saga\"]}\n",
    "\n",
    "gs_lgr = GridSearchCV(estimator= pipe_dict[\"lgr\"], param_grid=parameters,\n",
    "n_jobs= 3, refit = \"Precision\", scoring=scoring, return_train_score= True)"
   ]
  },
  {
   "cell_type": "code",
   "execution_count": 129,
   "metadata": {},
   "outputs": [
    {
     "data": {
      "text/plain": [
       "GridSearchCV(estimator=Pipeline(steps=[('ct', StandardScaler()),\n",
       "                                       ('sm', SMOTE(random_state=42)),\n",
       "                                       ('lgr',\n",
       "                                        LogisticRegression(random_state=42))]),\n",
       "             n_jobs=3,\n",
       "             param_grid={'lgr__penalty': ['none', 'l1l2', 'elasticnet'],\n",
       "                         'lgr__solver': ['lbfgs', 'liblinear', 'saga'],\n",
       "                         'sm__sampling_strategy': ['minority', 0.2, 0.6]},\n",
       "             refit='Precision', return_train_score=True,\n",
       "             scoring={'Accuracy': make_scorer(accuracy_score),\n",
       "                      'F1': make_scorer(f1_score, pos_label=Luxury),\n",
       "                      'Precision': make_scorer(precision_score, pos_label=Luxury),\n",
       "                      'Rec': make_scorer(recall_score, pos_label=Luxury)})"
      ]
     },
     "execution_count": 129,
     "metadata": {},
     "output_type": "execute_result"
    }
   ],
   "source": [
    "gs_lgr.fit(X_train, y_train)\n"
   ]
  },
  {
   "cell_type": "code",
   "execution_count": 130,
   "metadata": {},
   "outputs": [
    {
     "name": "stdout",
     "output_type": "stream",
     "text": [
      "Best Estimator: Pipeline(steps=[('ct', StandardScaler()),\n",
      "                ('sm', SMOTE(random_state=42, sampling_strategy='minority')),\n",
      "                ('lgr', LogisticRegression(penalty='none', random_state=42))])\n",
      "\n",
      "\n",
      "Best Paremeters: {'lgr__penalty': 'none', 'lgr__solver': 'lbfgs', 'sm__sampling_strategy': 'minority'}\n",
      "\n",
      "\n",
      "Best Precision Score: 0.491081404082648\n",
      "\n",
      "\n",
      "Best Train Estimator Score: 1.0\n",
      "Train Classification Report:\n",
      "               precision    recall  f1-score   support\n",
      "\n",
      "       Basic       1.00      0.85      0.92      6551\n",
      "      Luxury       0.49      1.00      0.66       949\n",
      "\n",
      "    accuracy                           0.87      7500\n",
      "   macro avg       0.75      0.92      0.79      7500\n",
      "weighted avg       0.94      0.87      0.89      7500\n",
      "\n",
      "\n",
      "\n",
      "Best Train Estimator Score: 1.0\n",
      "Test Classification Report:\n",
      "               precision    recall  f1-score   support\n",
      "\n",
      "       Basic       1.00      0.85      0.92      2184\n",
      "      Luxury       0.50      1.00      0.67       316\n",
      "\n",
      "    accuracy                           0.87      2500\n",
      "   macro avg       0.75      0.93      0.79      2500\n",
      "weighted avg       0.94      0.87      0.89      2500\n",
      "\n",
      "------------------------------------------------------------\n",
      "\n",
      "\n"
     ]
    }
   ],
   "source": [
    "gridsearch_score(gs_lgr)"
   ]
  },
  {
   "cell_type": "markdown",
   "metadata": {},
   "source": [
    "### DecisionTree GridsearchCV"
   ]
  },
  {
   "cell_type": "code",
   "execution_count": 131,
   "metadata": {},
   "outputs": [],
   "source": [
    "parameters = {\"sm__sampling_strategy\":[\"minority\",.2,.6],\n",
    "                      'dt__criterion': [\"gini\", \"entropy\"],\n",
    "                      'dt__max_depth': [None, 5,100],\n",
    "                      'dt__min_samples_split': [2,7,9],\n",
    "                      'dt__min_samples_leaf': [2,5,7]}\n",
    "\n",
    "gs_dt = GridSearchCV(estimator= pipe_dict[\"dt\"], param_grid=parameters,\n",
    "n_jobs= 3, refit = \"Precision\", scoring=scoring, return_train_score= True)\n",
    "\n"
   ]
  },
  {
   "cell_type": "code",
   "execution_count": 132,
   "metadata": {},
   "outputs": [
    {
     "data": {
      "text/plain": [
       "GridSearchCV(estimator=Pipeline(steps=[('ct', StandardScaler()),\n",
       "                                       ('sm', SMOTE(random_state=42)),\n",
       "                                       ('dt',\n",
       "                                        DecisionTreeClassifier(random_state=42))]),\n",
       "             n_jobs=3,\n",
       "             param_grid={'dt__criterion': ['gini', 'entropy'],\n",
       "                         'dt__max_depth': [None, 5, 100],\n",
       "                         'dt__min_samples_leaf': [2, 5, 7],\n",
       "                         'dt__min_samples_split': [2, 7, 9],\n",
       "                         'sm__sampling_strategy': ['minority', 0.2, 0.6]},\n",
       "             refit='Precision', return_train_score=True,\n",
       "             scoring={'Accuracy': make_scorer(accuracy_score),\n",
       "                      'F1': make_scorer(f1_score, pos_label=Luxury),\n",
       "                      'Precision': make_scorer(precision_score, pos_label=Luxury),\n",
       "                      'Rec': make_scorer(recall_score, pos_label=Luxury)})"
      ]
     },
     "execution_count": 132,
     "metadata": {},
     "output_type": "execute_result"
    }
   ],
   "source": [
    "gs_dt.fit(X_train, y_train)"
   ]
  },
  {
   "cell_type": "code",
   "execution_count": 133,
   "metadata": {},
   "outputs": [
    {
     "name": "stdout",
     "output_type": "stream",
     "text": [
      "Best Estimator: Pipeline(steps=[('ct', StandardScaler()),\n",
      "                ('sm', SMOTE(random_state=42, sampling_strategy='minority')),\n",
      "                ('dt',\n",
      "                 DecisionTreeClassifier(min_samples_leaf=7, random_state=42))])\n",
      "\n",
      "\n",
      "Best Paremeters: {'dt__criterion': 'gini', 'dt__max_depth': None, 'dt__min_samples_leaf': 7, 'dt__min_samples_split': 2, 'sm__sampling_strategy': 'minority'}\n",
      "\n",
      "\n",
      "Best Precision Score: 0.5104866800724549\n",
      "\n",
      "\n",
      "Best Train Estimator Score: 1.0\n",
      "Train Classification Report:\n",
      "               precision    recall  f1-score   support\n",
      "\n",
      "       Basic       0.98      0.96      0.97      6551\n",
      "      Luxury       0.76      0.85      0.80       949\n",
      "\n",
      "    accuracy                           0.95      7500\n",
      "   macro avg       0.87      0.91      0.89      7500\n",
      "weighted avg       0.95      0.95      0.95      7500\n",
      "\n",
      "\n",
      "\n",
      "Best Train Estimator Score: 1.0\n",
      "Test Classification Report:\n",
      "               precision    recall  f1-score   support\n",
      "\n",
      "       Basic       0.95      0.92      0.93      2184\n",
      "      Luxury       0.53      0.66      0.59       316\n",
      "\n",
      "    accuracy                           0.88      2500\n",
      "   macro avg       0.74      0.79      0.76      2500\n",
      "weighted avg       0.90      0.88      0.89      2500\n",
      "\n",
      "------------------------------------------------------------\n",
      "\n",
      "\n"
     ]
    }
   ],
   "source": [
    "gridsearch_score(gs_dt)"
   ]
  },
  {
   "cell_type": "markdown",
   "metadata": {},
   "source": [
    "### Random Forest GridsearchCV"
   ]
  },
  {
   "cell_type": "code",
   "execution_count": 134,
   "metadata": {},
   "outputs": [],
   "source": [
    "parameters = {\"sm__sampling_strategy\":[\"minority\",.2,.6],\n",
    "                      'rf__n_estimators': [10,50,75],\n",
    "                      'rf__criterion': [\"gini\", \"entropy\"],\n",
    "                      'rf__max_depth': [None, 5,15,25,50],\n",
    "                      'rf__min_samples_leaf': [2,5,7]}\n",
    "\n",
    "gs_rf = GridSearchCV(estimator= pipe_dict[\"rf\"], param_grid=parameters,\n",
    "n_jobs= 3, refit = \"Precision\", scoring=scoring, return_train_score= True)"
   ]
  },
  {
   "cell_type": "code",
   "execution_count": 135,
   "metadata": {},
   "outputs": [
    {
     "data": {
      "text/plain": [
       "GridSearchCV(estimator=Pipeline(steps=[('ct', StandardScaler()),\n",
       "                                       ('sm', SMOTE(random_state=42)),\n",
       "                                       ('rf',\n",
       "                                        RandomForestClassifier(random_state=42))]),\n",
       "             n_jobs=3,\n",
       "             param_grid={'rf__criterion': ['gini', 'entropy'],\n",
       "                         'rf__max_depth': [None, 5, 15, 25, 50],\n",
       "                         'rf__min_samples_leaf': [2, 5, 7],\n",
       "                         'rf__n_estimators': [10, 50, 75],\n",
       "                         'sm__sampling_strategy': ['minority', 0.2, 0.6]},\n",
       "             refit='Precision', return_train_score=True,\n",
       "             scoring={'Accuracy': make_scorer(accuracy_score),\n",
       "                      'F1': make_scorer(f1_score, pos_label=Luxury),\n",
       "                      'Precision': make_scorer(precision_score, pos_label=Luxury),\n",
       "                      'Rec': make_scorer(recall_score, pos_label=Luxury)})"
      ]
     },
     "execution_count": 135,
     "metadata": {},
     "output_type": "execute_result"
    }
   ],
   "source": [
    "\n",
    "gs_rf.fit(X_train, y_train)\n"
   ]
  },
  {
   "cell_type": "code",
   "execution_count": 136,
   "metadata": {},
   "outputs": [
    {
     "name": "stdout",
     "output_type": "stream",
     "text": [
      "Best Estimator: Pipeline(steps=[('ct', StandardScaler()),\n",
      "                ('sm', SMOTE(random_state=42, sampling_strategy=0.2)),\n",
      "                ('rf',\n",
      "                 RandomForestClassifier(criterion='entropy', max_depth=5,\n",
      "                                        min_samples_leaf=7, n_estimators=10,\n",
      "                                        random_state=42))])\n",
      "\n",
      "\n",
      "Best Paremeters: {'rf__criterion': 'entropy', 'rf__max_depth': 5, 'rf__min_samples_leaf': 7, 'rf__n_estimators': 10, 'sm__sampling_strategy': 0.2}\n",
      "\n",
      "\n",
      "Best Precision Score: 0.557936507936508\n",
      "\n",
      "\n",
      "Best Train Estimator Score: 1.0\n",
      "Train Classification Report:\n",
      "               precision    recall  f1-score   support\n",
      "\n",
      "       Basic       0.89      0.99      0.94      6551\n",
      "      Luxury       0.64      0.12      0.21       949\n",
      "\n",
      "    accuracy                           0.88      7500\n",
      "   macro avg       0.77      0.56      0.57      7500\n",
      "weighted avg       0.86      0.88      0.84      7500\n",
      "\n",
      "\n",
      "\n",
      "Best Train Estimator Score: 1.0\n",
      "Test Classification Report:\n",
      "               precision    recall  f1-score   support\n",
      "\n",
      "       Basic       0.88      0.99      0.93      2184\n",
      "      Luxury       0.55      0.08      0.13       316\n",
      "\n",
      "    accuracy                           0.88      2500\n",
      "   macro avg       0.71      0.53      0.53      2500\n",
      "weighted avg       0.84      0.88      0.83      2500\n",
      "\n",
      "------------------------------------------------------------\n",
      "\n",
      "\n"
     ]
    }
   ],
   "source": [
    "gridsearch_score(gs_rf)"
   ]
  },
  {
   "cell_type": "markdown",
   "metadata": {},
   "source": [
    "## Choose Best Estimator"
   ]
  },
  {
   "cell_type": "code",
   "execution_count": 137,
   "metadata": {},
   "outputs": [],
   "source": [
    "#Confusion\n",
    " \n",
    "#Graph best estimators confusion and map\n",
    "#gRAPH THE pRECISION Recall curve\n",
    "\n",
    "#Piuck best features\n",
    "#TABLE AND GRAPH BEST features\n",
    "\n",
    "#Filter features\n",
    "#Run best features with estimator and compare scores\n",
    "#Plot\n",
    "\n",
    "#Eval\n",
    "#Recommendations and Limitations *(Technical anD Business)\n",
    "\n",
    "#EDA\n",
    "#Business and DATA\n",
    "#Format\n",
    "\n",
    "    "
   ]
  },
  {
   "cell_type": "code",
   "execution_count": 147,
   "metadata": {},
   "outputs": [
    {
     "data": {
      "text/plain": [
       "array([[2164,   20],\n",
       "       [ 292,   24]])"
      ]
     },
     "execution_count": 147,
     "metadata": {},
     "output_type": "execute_result"
    }
   ],
   "source": [
    "#Confusion Matrix\n",
    "y_gs_rf_pred = gs_rf.best_estimator_.predict(X_test)\n",
    "confusion_matrix(y_test,y_gs_rf_pred)"
   ]
  },
  {
   "cell_type": "code",
   "execution_count": 152,
   "metadata": {},
   "outputs": [
    {
     "data": {
      "text/plain": [
       "Pipeline(steps=[('ct', StandardScaler()),\n",
       "                ('sm', SMOTE(random_state=42, sampling_strategy=0.2)),\n",
       "                ('rf',\n",
       "                 RandomForestClassifier(criterion='entropy', max_depth=5,\n",
       "                                        min_samples_leaf=7, n_estimators=10,\n",
       "                                        random_state=42))])"
      ]
     },
     "execution_count": 152,
     "metadata": {},
     "output_type": "execute_result"
    }
   ],
   "source": [
    "gs_rf.best_estimator_"
   ]
  },
  {
   "cell_type": "code",
   "execution_count": 154,
   "metadata": {
    "collapsed": true
   },
   "outputs": [
    {
     "data": {
      "image/png": "[encoded data removed]",
      "text/plain": [
       "<Figure size 720x720 with 2 Axes>"
      ]
     },
     "metadata": {},
     "output_type": "display_data"
    }
   ],
   "source": [
    "#Map Confusion Matrix\n",
    "fig, ax = plt.subplots(figsize = (10,10), facecolor = \"white\")\n",
    "fig.suptitle(\"Random Forest Best Estimator\")\n",
    "plot_confusion_matrix(gs_rf.best_estimator_, X_test, y_test,ax=ax, normalize= \"true\", cmap=\"plasma\");"
   ]
  },
  {
   "cell_type": "code",
   "execution_count": 157,
   "metadata": {},
   "outputs": [
    {
     "name": "stdout",
     "output_type": "stream",
     "text": [
      "auc: 0.52\n"
     ]
    }
   ],
   "source": [
    "#Precision Recall on best estimator\n",
    "y_gs_rf_prob = gs_rf.best_estimator_.predict_proba(X_test)\n",
    "gs_rf_precision,gs_rf_recall, _ = precision_recall_curve(y_test, y_gs_rf_prob[:,1],pos_label=[ \"Luxury\"])\n",
    "rf_auc =  auc(gs_rf_recall, gs_rf_precision)\n",
    "print(\"auc:\", round(rf_auc,2))\n"
   ]
  },
  {
   "cell_type": "code",
   "execution_count": 161,
   "metadata": {},
   "outputs": [
    {
     "data": {
      "text/plain": [
       "<matplotlib.legend.Legend at 0x7fe59016c700>"
      ]
     },
     "execution_count": 161,
     "metadata": {},
     "output_type": "execute_result"
    },
    {
     "data": {
      "image/png": "[encoded data removed]",
      "text/plain": [
       "<Figure size 432x288 with 1 Axes>"
      ]
     },
     "metadata": {
      "needs_background": "light"
     },
     "output_type": "display_data"
    }
   ],
   "source": [
    "#Get the precision and recall scores from the best estimator\n",
    "fig= plt.plot(figsize = (15,15), facecolor = \"white\")\n",
    "plt.plot(gs_rf_recall, gs_rf_precision, marker='.', label='Luxury')\n",
    "#axis labels\n",
    "plt.title(\"Random Forest Precision-Recall Curve\")\n",
    "plt.xlabel(\"Recall\")\n",
    "plt.ylabel(\"Precision\")\n",
    "#Legend\n",
    "plt.legend()\n"
   ]
  },
  {
   "cell_type": "markdown",
   "metadata": {},
   "source": [
    "## Feature Selection\n",
    "[Joshua Code, Feature Engineering]"
   ]
  },
  {
   "cell_type": "code",
   "execution_count": 175,
   "metadata": {},
   "outputs": [],
   "source": [
    "#Get the best features from the best  model\n",
    "#Then do the pipeline on it\n",
    "\n",
    "#rf_clf = RandomForestClassifier(criterion='entropy', max_depth=5,min_samples_leaf=7, n_estimators=10,random_state=42)\n",
    "\n",
    "best_model = gs_rf.best_estimator_\n",
    "feat_importance = best_model.steps[2][1].feature_importances_"
   ]
  },
  {
   "cell_type": "code",
   "execution_count": 177,
   "metadata": {},
   "outputs": [],
   "source": [
    "columns = X_train.columns"
   ]
  },
  {
   "cell_type": "code",
   "execution_count": 197,
   "metadata": {},
   "outputs": [
    {
     "data": {
      "text/html": [
       "<div>\n",
       "<style scoped>\n",
       "    .dataframe tbody tr th:only-of-type {\n",
       "        vertical-align: middle;\n",
       "    }\n",
       "\n",
       "    .dataframe tbody tr th {\n",
       "        vertical-align: top;\n",
       "    }\n",
       "\n",
       "    .dataframe thead th {\n",
       "        text-align: right;\n",
       "    }\n",
       "</style>\n",
       "<table border=\"1\" class=\"dataframe\">\n",
       "  <thead>\n",
       "    <tr style=\"text-align: right;\">\n",
       "      <th></th>\n",
       "      <th>Features</th>\n",
       "      <th>Importance_Level</th>\n",
       "    </tr>\n",
       "  </thead>\n",
       "  <tbody>\n",
       "    <tr>\n",
       "      <th>0</th>\n",
       "      <td>Has_Yard</td>\n",
       "      <td>0.510498</td>\n",
       "    </tr>\n",
       "    <tr>\n",
       "      <th>1</th>\n",
       "      <td>Has_Pool</td>\n",
       "      <td>0.439397</td>\n",
       "    </tr>\n",
       "    <tr>\n",
       "      <th>2</th>\n",
       "      <td>Num_of_Guest_Rooms</td>\n",
       "      <td>0.008769</td>\n",
       "    </tr>\n",
       "    <tr>\n",
       "      <th>3</th>\n",
       "      <td>Num_of_Rooms</td>\n",
       "      <td>0.007498</td>\n",
       "    </tr>\n",
       "    <tr>\n",
       "      <th>4</th>\n",
       "      <td>Building_Size(m)</td>\n",
       "      <td>0.007118</td>\n",
       "    </tr>\n",
       "    <tr>\n",
       "      <th>5</th>\n",
       "      <td>Basement_Size(m)</td>\n",
       "      <td>0.005478</td>\n",
       "    </tr>\n",
       "    <tr>\n",
       "      <th>6</th>\n",
       "      <td>Year_Built</td>\n",
       "      <td>0.004575</td>\n",
       "    </tr>\n",
       "    <tr>\n",
       "      <th>7</th>\n",
       "      <td>Price</td>\n",
       "      <td>0.004121</td>\n",
       "    </tr>\n",
       "    <tr>\n",
       "      <th>8</th>\n",
       "      <td>Num_of_Floors</td>\n",
       "      <td>0.003369</td>\n",
       "    </tr>\n",
       "    <tr>\n",
       "      <th>9</th>\n",
       "      <td>Attic_Size(m)</td>\n",
       "      <td>0.003365</td>\n",
       "    </tr>\n",
       "    <tr>\n",
       "      <th>10</th>\n",
       "      <td>City_Code</td>\n",
       "      <td>0.002209</td>\n",
       "    </tr>\n",
       "    <tr>\n",
       "      <th>11</th>\n",
       "      <td>City_Part_Range</td>\n",
       "      <td>0.001940</td>\n",
       "    </tr>\n",
       "    <tr>\n",
       "      <th>12</th>\n",
       "      <td>Garage_Size(m)</td>\n",
       "      <td>0.001148</td>\n",
       "    </tr>\n",
       "    <tr>\n",
       "      <th>13</th>\n",
       "      <td>Has_Storm_Protector</td>\n",
       "      <td>0.000316</td>\n",
       "    </tr>\n",
       "    <tr>\n",
       "      <th>14</th>\n",
       "      <td>Num_Previous_Owners</td>\n",
       "      <td>0.000198</td>\n",
       "    </tr>\n",
       "    <tr>\n",
       "      <th>15</th>\n",
       "      <td>Has_Storage_Room</td>\n",
       "      <td>0.000000</td>\n",
       "    </tr>\n",
       "  </tbody>\n",
       "</table>\n",
       "</div>"
      ],
      "text/plain": [
       "               Features  Importance_Level\n",
       "0              Has_Yard          0.510498\n",
       "1              Has_Pool          0.439397\n",
       "2    Num_of_Guest_Rooms          0.008769\n",
       "3          Num_of_Rooms          0.007498\n",
       "4      Building_Size(m)          0.007118\n",
       "5      Basement_Size(m)          0.005478\n",
       "6            Year_Built          0.004575\n",
       "7                 Price          0.004121\n",
       "8         Num_of_Floors          0.003369\n",
       "9         Attic_Size(m)          0.003365\n",
       "10            City_Code          0.002209\n",
       "11      City_Part_Range          0.001940\n",
       "12       Garage_Size(m)          0.001148\n",
       "13  Has_Storm_Protector          0.000316\n",
       "14  Num_Previous_Owners          0.000198\n",
       "15     Has_Storage_Room          0.000000"
      ]
     },
     "execution_count": 197,
     "metadata": {},
     "output_type": "execute_result"
    }
   ],
   "source": [
    "rf_imp_features  = pd.DataFrame({\"Features\": columns,\"Importance_Level\": feat_importance})\n",
    "rf_imp_features = rf_imp_features.sort_values(by = \"Importance_Level\",axis = 0, ascending=False, ignore_index = True)\n",
    "rf_imp_features"
   ]
  },
  {
   "cell_type": "code",
   "execution_count": 215,
   "metadata": {},
   "outputs": [
    {
     "data": {
      "image/png": "[encoded data removed]",
      "text/plain": [
       "<Figure size 2160x2160 with 1 Axes>"
      ]
     },
     "metadata": {},
     "output_type": "display_data"
    }
   ],
   "source": [
    "#Plotting Importance from Best Model\n",
    "sns.barplot(x = feat_importance, \n",
    "            y = columns, \n",
    "            data = rf_imp_features,\n",
    "            color = 'tab:blue',\n",
    "            order=rf_imp_features[\"Features\"],\n",
    "            orient = 'h')\n",
    "sns.set(rc={'figure.figsize':(30,30)},font_scale= 2)\n",
    "plt.title(\"Feature Importance of Best Mode\",)\n",
    "plt.xlabel('Feature Importance of Best Model')\n",
    "plt.ylabel('Features')\n",
    "plt.show()\n",
    "\n",
    "#change size of labels"
   ]
  },
  {
   "cell_type": "code",
   "execution_count": 235,
   "metadata": {},
   "outputs": [
    {
     "data": {
      "text/html": [
       "<div>\n",
       "<style scoped>\n",
       "    .dataframe tbody tr th:only-of-type {\n",
       "        vertical-align: middle;\n",
       "    }\n",
       "\n",
       "    .dataframe tbody tr th {\n",
       "        vertical-align: top;\n",
       "    }\n",
       "\n",
       "    .dataframe thead th {\n",
       "        text-align: right;\n",
       "    }\n",
       "</style>\n",
       "<table border=\"1\" class=\"dataframe\">\n",
       "  <thead>\n",
       "    <tr style=\"text-align: right;\">\n",
       "      <th></th>\n",
       "      <th>Features</th>\n",
       "      <th>Importance_Level</th>\n",
       "    </tr>\n",
       "  </thead>\n",
       "  <tbody>\n",
       "    <tr>\n",
       "      <th>0</th>\n",
       "      <td>Has_Yard</td>\n",
       "      <td>0.510498</td>\n",
       "    </tr>\n",
       "    <tr>\n",
       "      <th>1</th>\n",
       "      <td>Has_Pool</td>\n",
       "      <td>0.439397</td>\n",
       "    </tr>\n",
       "    <tr>\n",
       "      <th>2</th>\n",
       "      <td>Num_of_Guest_Rooms</td>\n",
       "      <td>0.008769</td>\n",
       "    </tr>\n",
       "    <tr>\n",
       "      <th>3</th>\n",
       "      <td>Num_of_Rooms</td>\n",
       "      <td>0.007498</td>\n",
       "    </tr>\n",
       "    <tr>\n",
       "      <th>4</th>\n",
       "      <td>Building_Size(m)</td>\n",
       "      <td>0.007118</td>\n",
       "    </tr>\n",
       "  </tbody>\n",
       "</table>\n",
       "</div>"
      ],
      "text/plain": [
       "             Features  Importance_Level\n",
       "0            Has_Yard          0.510498\n",
       "1            Has_Pool          0.439397\n",
       "2  Num_of_Guest_Rooms          0.008769\n",
       "3        Num_of_Rooms          0.007498\n",
       "4    Building_Size(m)          0.007118"
      ]
     },
     "execution_count": 235,
     "metadata": {},
     "output_type": "execute_result"
    }
   ],
   "source": [
    "# Choose top 5 Features\n",
    "\n",
    "#Top 5 Features\n",
    "rf_imp_features[0:5]\n"
   ]
  },
  {
   "cell_type": "code",
   "execution_count": 142,
   "metadata": {},
   "outputs": [
    {
     "data": {
      "text/plain": [
       "'Findings and Recommendations\\nIn the previous two projects, the framing was primarily descriptive and inferential, meaning that you were trying to understand the distributions of variables and the relationship between them. For this project you can still use these techniques, but make sure you are also using a predictive approach.\\n\\nA predictive finding might include:\\n\\nHow well your model is able to predict the target\\nWhat features are most important to your model\\nA predictive recommendation might include:\\n\\nThe contexts/situations where the predictions made by your model would and would not be useful for your stakeholder and business problem\\nSuggestions for how the business might modify certain input variables to achieve certain target results\\n\\n'"
      ]
     },
     "execution_count": 142,
     "metadata": {},
     "output_type": "execute_result"
    }
   ],
   "source": [
    "\"\"\"Findings and Recommendations\n",
    "In the previous two projects, the framing was primarily descriptive and inferential, meaning that you were trying to understand the distributions of variables and the relationship between them. For this project you can still use these techniques, but make sure you are also using a predictive approach.\n",
    "\n",
    "A predictive finding might include:\n",
    "\n",
    "How well your model is able to predict the target\n",
    "What features are most important to your model\n",
    "A predictive recommendation might include:\n",
    "\n",
    "The contexts/situations where the predictions made by your model would and would not be useful for your stakeholder and business problem\n",
    "Suggestions for how the business might modify certain input variables to achieve certain target results\n",
    "\n",
    "\"\"\""
   ]
  },
  {
   "cell_type": "code",
   "execution_count": 143,
   "metadata": {},
   "outputs": [
    {
     "data": {
      "text/plain": [
       "181"
      ]
     },
     "execution_count": 143,
     "metadata": {},
     "output_type": "execute_result"
    }
   ],
   "source": [
    "gs_rf.best_index_"
   ]
  },
  {
   "cell_type": "markdown",
   "metadata": {},
   "source": [
    "## 3rd Iteration - Choose best model to go on with [Grid/Random Searching ] Maybe Random Forest with pipeline"
   ]
  },
  {
   "cell_type": "markdown",
   "metadata": {},
   "source": [
    "## Choose best features to do final mode with"
   ]
  },
  {
   "cell_type": "markdown",
   "metadata": {},
   "source": [
    "# Evaluation"
   ]
  },
  {
   "cell_type": "markdown",
   "metadata": {},
   "source": [
    "## Things to combe back and add\n",
    "\n",
    "[Frequency dist of values in variables](https://www.kaggle.com/code/prashant111/decision-tree-classifier-tutorial#9.-Exploratory-data-analysis-) \n",
    "[Visualize Decision Tree]"
   ]
  },
  {
   "cell_type": "code",
   "execution_count": 144,
   "metadata": {},
   "outputs": [],
   "source": [
    "#Pick\n",
    "filename = 'gridsearch__model.pkl'"
   ]
  },
  {
   "cell_type": "code",
   "execution_count": 145,
   "metadata": {},
   "outputs": [
    {
     "ename": "NameError",
     "evalue": "name 'rf_gs' is not defined",
     "output_type": "error",
     "traceback": [
      "\u001b[0;31m---------------------------------------------------------------------------\u001b[0m",
      "\u001b[0;31mNameError\u001b[0m                                 Traceback (most recent call last)",
      "\u001b[0;32m<ipython-input-145-cee51e0c81ca>\u001b[0m in \u001b[0;36m<module>\u001b[0;34m\u001b[0m\n\u001b[0;32m----> 1\u001b[0;31m \u001b[0mpickle\u001b[0m\u001b[0;34m.\u001b[0m\u001b[0mdump\u001b[0m\u001b[0;34m(\u001b[0m\u001b[0mrf_gs\u001b[0m\u001b[0;34m,\u001b[0m \u001b[0mopen\u001b[0m\u001b[0;34m(\u001b[0m\u001b[0mfilename\u001b[0m\u001b[0;34m,\u001b[0m \u001b[0;34m'wb'\u001b[0m\u001b[0;34m)\u001b[0m\u001b[0;34m)\u001b[0m\u001b[0;34m\u001b[0m\u001b[0;34m\u001b[0m\u001b[0m\n\u001b[0m",
      "\u001b[0;31mNameError\u001b[0m: name 'rf_gs' is not defined"
     ]
    }
   ],
   "source": [
    "pickle.dump(rf_gs, open(filename, 'wb'))"
   ]
  },
  {
   "cell_type": "code",
   "execution_count": null,
   "metadata": {},
   "outputs": [],
   "source": []
  }
 ],
 "metadata": {
  "kernelspec": {
   "display_name": "Python (learn-env)",
   "language": "python",
   "name": "learn-env"
  },
  "language_info": {
   "codemirror_mode": {
    "name": "ipython",
    "version": 3
   },
   "file_extension": ".py",
   "mimetype": "text/x-python",
   "name": "python",
   "nbconvert_exporter": "python",
   "pygments_lexer": "ipython3",
   "version": "3.8.5"
  }
 },
 "nbformat": 4,
 "nbformat_minor": 4
}
