{
 "cells": [
  {
   "cell_type": "markdown",
   "metadata": {},
   "source": [
    "# Final Project Submission"
   ]
  },
  {
   "cell_type": "markdown",
   "metadata": {},
   "source": [
    "- Student Name: Deztany Jackson\n",
    "- Student Pace: Self Pace\n",
    "- Scheduled Project Review:\n",
    "- Instructor Name: Morgan Jones\n",
    "- Blog Post URL:\n"
   ]
  },
  {
   "cell_type": "markdown",
   "metadata": {},
   "source": [
    "### Quesitons /Comments\n",
    "- Aggregate Table for Dataset understanding - mean\n",
    "- When do we do the TP/FP/TN Stuff?\n",
    "    - Do cross tab table\n",
    "- Explore dataset\n",
    "    - Value Counts: group by Table\n",
    "    - Graph Prices\n",
    "    - Historgram of dataset - yes\n",
    "    - How many of each category is there now....% of dataset\n",
    "- Look into function of class of cross valudation from workflow model"
   ]
  },
  {
   "cell_type": "markdown",
   "metadata": {},
   "source": [
    "## Classification of Paris Housings - Luxury vs Basic"
   ]
  },
  {
   "cell_type": "markdown",
   "metadata": {},
   "source": [
    "# Business Understanding"
   ]
  },
  {
   "cell_type": "code",
   "execution_count": 1,
   "metadata": {},
   "outputs": [],
   "source": [
    "#Stakeholder and Business Problem\n"
   ]
  },
  {
   "cell_type": "markdown",
   "metadata": {},
   "source": [
    "# Data Understanding"
   ]
  },
  {
   "cell_type": "code",
<<<<<<< Updated upstream
   "execution_count": 172,
=======
   "execution_count": 17,
>>>>>>> Stashed changes
   "metadata": {},
   "outputs": [],
   "source": [
    "#Import packages\n",
    "\n",
    "import pandas as pd\n",
    "import numpy as np\n",
    "from matplotlib import pyplot as plt\n",
    "import seaborn as sns\n",
    "\n",
    "from sklearn.model_selection import train_test_split, GridSearchCV, cross_val_score\n",
    "from sklearn.dummy import DummyClassifier\n",
    "#from sklearn.pipeline import Pipeline\n",
    "#from sklearn.preprocessing import StandardScaler, OneHotEncoder, FunctionTransformer\n",
    "#from sklearn.impute import SimpleImputer\n",
    "#from sklearn.compose import ColumnTransformer\n",
    "from sklearn.linear_model import LogisticRegression\n",
    "#from sklearn.ensemble import RandomForestClassifier, GradientBoostingClassifier\n",
    "from sklearn.metrics import plot_confusion_matrix, recall_score, accuracy_score, precision_score, f1_score\n",
    "from sklearn.metrics import precision_recall_curve, plot_precision_recall_curve, plot_roc_curve\n",
    "\n",
    "#from imblearn.over_sampling import SMOTE\n",
    "#from imblearn.pipeline import Pipeline as ImPipeline"
   ]
  },
  {
   "cell_type": "markdown",
   "metadata": {},
   "source": [
    "Describe the dataset and where it came from and links [kaggle]"
   ]
  },
  {
   "cell_type": "code",
<<<<<<< Updated upstream
   "execution_count": 3,
=======
   "execution_count": 18,
>>>>>>> Stashed changes
   "metadata": {},
   "outputs": [
    {
     "data": {
      "text/html": [
       "<div>\n",
       "<style scoped>\n",
       "    .dataframe tbody tr th:only-of-type {\n",
       "        vertical-align: middle;\n",
       "    }\n",
       "\n",
       "    .dataframe tbody tr th {\n",
       "        vertical-align: top;\n",
       "    }\n",
       "\n",
       "    .dataframe thead th {\n",
       "        text-align: right;\n",
       "    }\n",
       "</style>\n",
       "<table border=\"1\" class=\"dataframe\">\n",
       "  <thead>\n",
       "    <tr style=\"text-align: right;\">\n",
       "      <th></th>\n",
       "      <th>squareMeters</th>\n",
       "      <th>numberOfRooms</th>\n",
       "      <th>hasYard</th>\n",
       "      <th>hasPool</th>\n",
       "      <th>floors</th>\n",
       "      <th>cityCode</th>\n",
       "      <th>cityPartRange</th>\n",
       "      <th>numPrevOwners</th>\n",
       "      <th>made</th>\n",
       "      <th>isNewBuilt</th>\n",
       "      <th>hasStormProtector</th>\n",
       "      <th>basement</th>\n",
       "      <th>attic</th>\n",
       "      <th>garage</th>\n",
       "      <th>hasStorageRoom</th>\n",
       "      <th>hasGuestRoom</th>\n",
       "      <th>price</th>\n",
       "      <th>category</th>\n",
       "    </tr>\n",
       "  </thead>\n",
       "  <tbody>\n",
       "    <tr>\n",
       "      <th>0</th>\n",
       "      <td>75523</td>\n",
       "      <td>3</td>\n",
       "      <td>0</td>\n",
       "      <td>1</td>\n",
       "      <td>63</td>\n",
       "      <td>9373</td>\n",
       "      <td>3</td>\n",
       "      <td>8</td>\n",
       "      <td>2005</td>\n",
       "      <td>0</td>\n",
       "      <td>1</td>\n",
       "      <td>4313</td>\n",
       "      <td>9005</td>\n",
       "      <td>956</td>\n",
       "      <td>0</td>\n",
       "      <td>7</td>\n",
       "      <td>7559081.5</td>\n",
       "      <td>Basic</td>\n",
       "    </tr>\n",
       "    <tr>\n",
       "      <th>1</th>\n",
       "      <td>80771</td>\n",
       "      <td>39</td>\n",
       "      <td>1</td>\n",
       "      <td>1</td>\n",
       "      <td>98</td>\n",
       "      <td>39381</td>\n",
       "      <td>8</td>\n",
       "      <td>6</td>\n",
       "      <td>2015</td>\n",
       "      <td>1</td>\n",
       "      <td>0</td>\n",
       "      <td>3653</td>\n",
       "      <td>2436</td>\n",
       "      <td>128</td>\n",
       "      <td>1</td>\n",
       "      <td>2</td>\n",
       "      <td>8085989.5</td>\n",
       "      <td>Luxury</td>\n",
       "    </tr>\n",
       "    <tr>\n",
       "      <th>2</th>\n",
       "      <td>55712</td>\n",
       "      <td>58</td>\n",
       "      <td>0</td>\n",
       "      <td>1</td>\n",
       "      <td>19</td>\n",
       "      <td>34457</td>\n",
       "      <td>6</td>\n",
       "      <td>8</td>\n",
       "      <td>2021</td>\n",
       "      <td>0</td>\n",
       "      <td>0</td>\n",
       "      <td>2937</td>\n",
       "      <td>8852</td>\n",
       "      <td>135</td>\n",
       "      <td>1</td>\n",
       "      <td>9</td>\n",
       "      <td>5574642.1</td>\n",
       "      <td>Basic</td>\n",
       "    </tr>\n",
       "    <tr>\n",
       "      <th>3</th>\n",
       "      <td>32316</td>\n",
       "      <td>47</td>\n",
       "      <td>0</td>\n",
       "      <td>0</td>\n",
       "      <td>6</td>\n",
       "      <td>27939</td>\n",
       "      <td>10</td>\n",
       "      <td>4</td>\n",
       "      <td>2012</td>\n",
       "      <td>0</td>\n",
       "      <td>1</td>\n",
       "      <td>659</td>\n",
       "      <td>7141</td>\n",
       "      <td>359</td>\n",
       "      <td>0</td>\n",
       "      <td>3</td>\n",
       "      <td>3232561.2</td>\n",
       "      <td>Basic</td>\n",
       "    </tr>\n",
       "    <tr>\n",
       "      <th>4</th>\n",
       "      <td>70429</td>\n",
       "      <td>19</td>\n",
       "      <td>1</td>\n",
       "      <td>1</td>\n",
       "      <td>90</td>\n",
       "      <td>38045</td>\n",
       "      <td>3</td>\n",
       "      <td>7</td>\n",
       "      <td>1990</td>\n",
       "      <td>1</td>\n",
       "      <td>0</td>\n",
       "      <td>8435</td>\n",
       "      <td>2429</td>\n",
       "      <td>292</td>\n",
       "      <td>1</td>\n",
       "      <td>4</td>\n",
       "      <td>7055052.0</td>\n",
       "      <td>Luxury</td>\n",
       "    </tr>\n",
       "  </tbody>\n",
       "</table>\n",
       "</div>"
      ],
      "text/plain": [
       "   squareMeters  numberOfRooms  hasYard  hasPool  floors  cityCode  \\\n",
       "0         75523              3        0        1      63      9373   \n",
       "1         80771             39        1        1      98     39381   \n",
       "2         55712             58        0        1      19     34457   \n",
       "3         32316             47        0        0       6     27939   \n",
       "4         70429             19        1        1      90     38045   \n",
       "\n",
       "   cityPartRange  numPrevOwners  made  isNewBuilt  hasStormProtector  \\\n",
       "0              3              8  2005           0                  1   \n",
       "1              8              6  2015           1                  0   \n",
       "2              6              8  2021           0                  0   \n",
       "3             10              4  2012           0                  1   \n",
       "4              3              7  1990           1                  0   \n",
       "\n",
       "   basement  attic  garage  hasStorageRoom  hasGuestRoom      price category  \n",
       "0      4313   9005     956               0             7  7559081.5    Basic  \n",
       "1      3653   2436     128               1             2  8085989.5   Luxury  \n",
       "2      2937   8852     135               1             9  5574642.1    Basic  \n",
       "3       659   7141     359               0             3  3232561.2    Basic  \n",
       "4      8435   2429     292               1             4  7055052.0   Luxury  "
      ]
     },
<<<<<<< Updated upstream
     "execution_count": 3,
=======
     "execution_count": 18,
>>>>>>> Stashed changes
     "metadata": {},
     "output_type": "execute_result"
    }
   ],
   "source": [
    "# Import csv file\n",
    "paris_df = pd.read_csv(\"data/ParisHousingClass.csv\")\n",
    "paris_df.head()"
   ]
  },
  {
   "cell_type": "markdown",
   "metadata": {},
   "source": [
    "This dataset has 10000 rows and 18 columns (including the target)"
   ]
  },
  {
   "cell_type": "code",
<<<<<<< Updated upstream
   "execution_count": 4,
=======
   "execution_count": 19,
>>>>>>> Stashed changes
   "metadata": {},
   "outputs": [
    {
     "data": {
      "text/plain": [
       "(10000, 18)"
      ]
     },
<<<<<<< Updated upstream
     "execution_count": 4,
=======
     "execution_count": 19,
>>>>>>> Stashed changes
     "metadata": {},
     "output_type": "execute_result"
    }
   ],
   "source": [
    "#Shape of dataset\n",
    "paris_df.shape"
   ]
  },
  {
   "cell_type": "code",
<<<<<<< Updated upstream
   "execution_count": 5,
=======
   "execution_count": 20,
>>>>>>> Stashed changes
   "metadata": {},
   "outputs": [
    {
     "data": {
      "text/html": [
       "<div>\n",
       "<style scoped>\n",
       "    .dataframe tbody tr th:only-of-type {\n",
       "        vertical-align: middle;\n",
       "    }\n",
       "\n",
       "    .dataframe tbody tr th {\n",
       "        vertical-align: top;\n",
       "    }\n",
       "\n",
       "    .dataframe thead th {\n",
       "        text-align: right;\n",
       "    }\n",
       "</style>\n",
       "<table border=\"1\" class=\"dataframe\">\n",
       "  <thead>\n",
       "    <tr style=\"text-align: right;\">\n",
       "      <th></th>\n",
       "      <th>squareMeters</th>\n",
       "      <th>numberOfRooms</th>\n",
       "      <th>hasYard</th>\n",
       "      <th>hasPool</th>\n",
       "      <th>floors</th>\n",
       "      <th>cityCode</th>\n",
       "      <th>cityPartRange</th>\n",
       "      <th>numPrevOwners</th>\n",
       "      <th>made</th>\n",
       "      <th>isNewBuilt</th>\n",
       "      <th>hasStormProtector</th>\n",
       "      <th>basement</th>\n",
       "      <th>attic</th>\n",
       "      <th>garage</th>\n",
       "      <th>hasStorageRoom</th>\n",
       "      <th>hasGuestRoom</th>\n",
       "      <th>price</th>\n",
       "    </tr>\n",
       "  </thead>\n",
       "  <tbody>\n",
       "    <tr>\n",
       "      <th>count</th>\n",
       "      <td>10000.00000</td>\n",
       "      <td>10000.000000</td>\n",
       "      <td>10000.000000</td>\n",
       "      <td>10000.000000</td>\n",
       "      <td>10000.000000</td>\n",
       "      <td>10000.000000</td>\n",
       "      <td>10000.000000</td>\n",
       "      <td>10000.000000</td>\n",
       "      <td>10000.00000</td>\n",
       "      <td>10000.000000</td>\n",
       "      <td>10000.000000</td>\n",
       "      <td>10000.000000</td>\n",
       "      <td>10000.00000</td>\n",
       "      <td>10000.00000</td>\n",
       "      <td>10000.000000</td>\n",
       "      <td>10000.00000</td>\n",
       "      <td>1.000000e+04</td>\n",
       "    </tr>\n",
       "    <tr>\n",
       "      <th>mean</th>\n",
       "      <td>49870.13120</td>\n",
       "      <td>50.358400</td>\n",
       "      <td>0.508700</td>\n",
       "      <td>0.496800</td>\n",
       "      <td>50.276300</td>\n",
       "      <td>50225.486100</td>\n",
       "      <td>5.510100</td>\n",
       "      <td>5.521700</td>\n",
       "      <td>2005.48850</td>\n",
       "      <td>0.499100</td>\n",
       "      <td>0.499900</td>\n",
       "      <td>5033.103900</td>\n",
       "      <td>5028.01060</td>\n",
       "      <td>553.12120</td>\n",
       "      <td>0.503000</td>\n",
       "      <td>4.99460</td>\n",
       "      <td>4.993448e+06</td>\n",
       "    </tr>\n",
       "    <tr>\n",
       "      <th>std</th>\n",
       "      <td>28774.37535</td>\n",
       "      <td>28.816696</td>\n",
       "      <td>0.499949</td>\n",
       "      <td>0.500015</td>\n",
       "      <td>28.889171</td>\n",
       "      <td>29006.675799</td>\n",
       "      <td>2.872024</td>\n",
       "      <td>2.856667</td>\n",
       "      <td>9.30809</td>\n",
       "      <td>0.500024</td>\n",
       "      <td>0.500025</td>\n",
       "      <td>2876.729545</td>\n",
       "      <td>2894.33221</td>\n",
       "      <td>262.05017</td>\n",
       "      <td>0.500016</td>\n",
       "      <td>3.17641</td>\n",
       "      <td>2.877424e+06</td>\n",
       "    </tr>\n",
       "    <tr>\n",
       "      <th>min</th>\n",
       "      <td>89.00000</td>\n",
       "      <td>1.000000</td>\n",
       "      <td>0.000000</td>\n",
       "      <td>0.000000</td>\n",
       "      <td>1.000000</td>\n",
       "      <td>3.000000</td>\n",
       "      <td>1.000000</td>\n",
       "      <td>1.000000</td>\n",
       "      <td>1990.00000</td>\n",
       "      <td>0.000000</td>\n",
       "      <td>0.000000</td>\n",
       "      <td>0.000000</td>\n",
       "      <td>1.00000</td>\n",
       "      <td>100.00000</td>\n",
       "      <td>0.000000</td>\n",
       "      <td>0.00000</td>\n",
       "      <td>1.031350e+04</td>\n",
       "    </tr>\n",
       "    <tr>\n",
       "      <th>25%</th>\n",
       "      <td>25098.50000</td>\n",
       "      <td>25.000000</td>\n",
       "      <td>0.000000</td>\n",
       "      <td>0.000000</td>\n",
       "      <td>25.000000</td>\n",
       "      <td>24693.750000</td>\n",
       "      <td>3.000000</td>\n",
       "      <td>3.000000</td>\n",
       "      <td>1997.00000</td>\n",
       "      <td>0.000000</td>\n",
       "      <td>0.000000</td>\n",
       "      <td>2559.750000</td>\n",
       "      <td>2512.00000</td>\n",
       "      <td>327.75000</td>\n",
       "      <td>0.000000</td>\n",
       "      <td>2.00000</td>\n",
       "      <td>2.516402e+06</td>\n",
       "    </tr>\n",
       "    <tr>\n",
       "      <th>50%</th>\n",
       "      <td>50105.50000</td>\n",
       "      <td>50.000000</td>\n",
       "      <td>1.000000</td>\n",
       "      <td>0.000000</td>\n",
       "      <td>50.000000</td>\n",
       "      <td>50693.000000</td>\n",
       "      <td>5.000000</td>\n",
       "      <td>5.000000</td>\n",
       "      <td>2005.50000</td>\n",
       "      <td>0.000000</td>\n",
       "      <td>0.000000</td>\n",
       "      <td>5092.500000</td>\n",
       "      <td>5045.00000</td>\n",
       "      <td>554.00000</td>\n",
       "      <td>1.000000</td>\n",
       "      <td>5.00000</td>\n",
       "      <td>5.016180e+06</td>\n",
       "    </tr>\n",
       "    <tr>\n",
       "      <th>75%</th>\n",
       "      <td>74609.75000</td>\n",
       "      <td>75.000000</td>\n",
       "      <td>1.000000</td>\n",
       "      <td>1.000000</td>\n",
       "      <td>76.000000</td>\n",
       "      <td>75683.250000</td>\n",
       "      <td>8.000000</td>\n",
       "      <td>8.000000</td>\n",
       "      <td>2014.00000</td>\n",
       "      <td>1.000000</td>\n",
       "      <td>1.000000</td>\n",
       "      <td>7511.250000</td>\n",
       "      <td>7540.50000</td>\n",
       "      <td>777.25000</td>\n",
       "      <td>1.000000</td>\n",
       "      <td>8.00000</td>\n",
       "      <td>7.469092e+06</td>\n",
       "    </tr>\n",
       "    <tr>\n",
       "      <th>max</th>\n",
       "      <td>99999.00000</td>\n",
       "      <td>100.000000</td>\n",
       "      <td>1.000000</td>\n",
       "      <td>1.000000</td>\n",
       "      <td>100.000000</td>\n",
       "      <td>99953.000000</td>\n",
       "      <td>10.000000</td>\n",
       "      <td>10.000000</td>\n",
       "      <td>2021.00000</td>\n",
       "      <td>1.000000</td>\n",
       "      <td>1.000000</td>\n",
       "      <td>10000.000000</td>\n",
       "      <td>10000.00000</td>\n",
       "      <td>1000.00000</td>\n",
       "      <td>1.000000</td>\n",
       "      <td>10.00000</td>\n",
       "      <td>1.000677e+07</td>\n",
       "    </tr>\n",
       "  </tbody>\n",
       "</table>\n",
       "</div>"
      ],
      "text/plain": [
       "       squareMeters  numberOfRooms       hasYard       hasPool        floors  \\\n",
       "count   10000.00000   10000.000000  10000.000000  10000.000000  10000.000000   \n",
       "mean    49870.13120      50.358400      0.508700      0.496800     50.276300   \n",
       "std     28774.37535      28.816696      0.499949      0.500015     28.889171   \n",
       "min        89.00000       1.000000      0.000000      0.000000      1.000000   \n",
       "25%     25098.50000      25.000000      0.000000      0.000000     25.000000   \n",
       "50%     50105.50000      50.000000      1.000000      0.000000     50.000000   \n",
       "75%     74609.75000      75.000000      1.000000      1.000000     76.000000   \n",
       "max     99999.00000     100.000000      1.000000      1.000000    100.000000   \n",
       "\n",
       "           cityCode  cityPartRange  numPrevOwners         made    isNewBuilt  \\\n",
       "count  10000.000000   10000.000000   10000.000000  10000.00000  10000.000000   \n",
       "mean   50225.486100       5.510100       5.521700   2005.48850      0.499100   \n",
       "std    29006.675799       2.872024       2.856667      9.30809      0.500024   \n",
       "min        3.000000       1.000000       1.000000   1990.00000      0.000000   \n",
       "25%    24693.750000       3.000000       3.000000   1997.00000      0.000000   \n",
       "50%    50693.000000       5.000000       5.000000   2005.50000      0.000000   \n",
       "75%    75683.250000       8.000000       8.000000   2014.00000      1.000000   \n",
       "max    99953.000000      10.000000      10.000000   2021.00000      1.000000   \n",
       "\n",
       "       hasStormProtector      basement        attic       garage  \\\n",
       "count       10000.000000  10000.000000  10000.00000  10000.00000   \n",
       "mean            0.499900   5033.103900   5028.01060    553.12120   \n",
       "std             0.500025   2876.729545   2894.33221    262.05017   \n",
       "min             0.000000      0.000000      1.00000    100.00000   \n",
       "25%             0.000000   2559.750000   2512.00000    327.75000   \n",
       "50%             0.000000   5092.500000   5045.00000    554.00000   \n",
       "75%             1.000000   7511.250000   7540.50000    777.25000   \n",
       "max             1.000000  10000.000000  10000.00000   1000.00000   \n",
       "\n",
       "       hasStorageRoom  hasGuestRoom         price  \n",
       "count    10000.000000   10000.00000  1.000000e+04  \n",
       "mean         0.503000       4.99460  4.993448e+06  \n",
       "std          0.500016       3.17641  2.877424e+06  \n",
       "min          0.000000       0.00000  1.031350e+04  \n",
       "25%          0.000000       2.00000  2.516402e+06  \n",
       "50%          1.000000       5.00000  5.016180e+06  \n",
       "75%          1.000000       8.00000  7.469092e+06  \n",
       "max          1.000000      10.00000  1.000677e+07  "
      ]
     },
<<<<<<< Updated upstream
     "execution_count": 5,
=======
     "execution_count": 20,
>>>>>>> Stashed changes
     "metadata": {},
     "output_type": "execute_result"
    }
   ],
   "source": [
    "#Describe the dataset\n",
    "paris_df.describe()"
   ]
  },
  {
   "cell_type": "code",
<<<<<<< Updated upstream
   "execution_count": 6,
=======
   "execution_count": 21,
>>>>>>> Stashed changes
   "metadata": {},
   "outputs": [
    {
     "name": "stdout",
     "output_type": "stream",
     "text": [
      "<class 'pandas.core.frame.DataFrame'>\n",
      "RangeIndex: 10000 entries, 0 to 9999\n",
      "Data columns (total 18 columns):\n",
      " #   Column             Non-Null Count  Dtype  \n",
      "---  ------             --------------  -----  \n",
      " 0   squareMeters       10000 non-null  int64  \n",
      " 1   numberOfRooms      10000 non-null  int64  \n",
      " 2   hasYard            10000 non-null  int64  \n",
      " 3   hasPool            10000 non-null  int64  \n",
      " 4   floors             10000 non-null  int64  \n",
      " 5   cityCode           10000 non-null  int64  \n",
      " 6   cityPartRange      10000 non-null  int64  \n",
      " 7   numPrevOwners      10000 non-null  int64  \n",
      " 8   made               10000 non-null  int64  \n",
      " 9   isNewBuilt         10000 non-null  int64  \n",
      " 10  hasStormProtector  10000 non-null  int64  \n",
      " 11  basement           10000 non-null  int64  \n",
      " 12  attic              10000 non-null  int64  \n",
      " 13  garage             10000 non-null  int64  \n",
      " 14  hasStorageRoom     10000 non-null  int64  \n",
      " 15  hasGuestRoom       10000 non-null  int64  \n",
      " 16  price              10000 non-null  float64\n",
      " 17  category           10000 non-null  object \n",
      "dtypes: float64(1), int64(16), object(1)\n",
      "memory usage: 1.4+ MB\n"
     ]
    }
   ],
   "source": [
    "#Information on dataset\n",
    "paris_df.info()"
   ]
  },
  {
   "cell_type": "code",
<<<<<<< Updated upstream
   "execution_count": 7,
=======
   "execution_count": 22,
>>>>>>> Stashed changes
   "metadata": {},
   "outputs": [],
   "source": [
    "#drop columns that don't seem to add value\n",
    "paris_df = paris_df.drop(columns=\"isNewBuilt\",axis =1)\n"
   ]
  },
  {
   "cell_type": "code",
<<<<<<< Updated upstream
   "execution_count": 8,
=======
   "execution_count": 23,
>>>>>>> Stashed changes
   "metadata": {},
   "outputs": [
    {
     "data": {
      "text/plain": [
       "(10000, 17)"
      ]
     },
<<<<<<< Updated upstream
     "execution_count": 8,
=======
     "execution_count": 23,
>>>>>>> Stashed changes
     "metadata": {},
     "output_type": "execute_result"
    }
   ],
   "source": [
    "#checking shape after deletion\n",
    "paris_df.shape"
   ]
  },
  {
   "cell_type": "markdown",
   "metadata": {},
   "source": [
    "# There are no textual values although some are categorical\n",
    "- Num of Rooms\n",
    "- Has Yard\n",
    "- Has Pool\n"
   ]
  },
  {
   "cell_type": "code",
   "execution_count": 9,
   "metadata": {},
   "outputs": [],
   "source": [
    "#Any null values? - No NULL Values\n",
    "#paris_df.isnull().sum()\n",
    "#No Null values"
   ]
  },
  {
   "cell_type": "code",
   "execution_count": 10,
   "metadata": {},
   "outputs": [],
   "source": [
    "#Checking for duplicates - None\n",
    "#paris_df.duplicated().sum() "
   ]
  },
  {
   "cell_type": "markdown",
   "metadata": {},
   "source": [
    "# Describe data Features\n",
    "\n",
    "- Plot Distribution of data\n",
    "- Multicolinearity\n",
    "- Heatmap\n"
   ]
  },
  {
   "cell_type": "code",
<<<<<<< Updated upstream
   "execution_count": 11,
=======
   "execution_count": 24,
>>>>>>> Stashed changes
   "metadata": {},
   "outputs": [
    {
     "name": "stdout",
     "output_type": "stream",
     "text": [
      "{'squareMeters': 'Building_Size(m)', 'numberOfRooms': 'Num_of_Rooms', 'hasYard': 'Has_Yard', 'hasPool': 'Has_Pool', 'floors': 'Num_of_Floors', 'cityCode': 'City_Code', 'cityPartRange': 'City_Part_Range', 'numPrevOwners': 'Num_Previous_Owners', 'made': 'Year_Built', 'hasStormProtector': 'Has_Storm_Protector', 'basement': 'Basement_Size(m)', 'attic': 'Attic_Size(m)', 'garage': 'Garage_Size(m)', 'hasStorageRoom': 'Has_Storage_Room', 'hasGuestRoom': 'Num_of_Guest_Rooms', 'price': 'Price', 'category': 'Category'}\n"
     ]
    }
   ],
   "source": [
    "#Renaming columns for better clarity\n",
    "old_cols = []\n",
    "new_col = ['Building_Size(m)','Num_of_Rooms','Has_Yard','Has_Pool','Num_of_Floors','City_Code','City_Part_Range',\n",
    "           'Num_Previous_Owners', 'Year_Built','Has_Storm_Protector',\n",
    "           'Basement_Size(m)','Attic_Size(m)', 'Garage_Size(m)', 'Has_Storage_Room','Num_of_Guest_Rooms','Price','Category']\n",
    "col_dict = {}\n",
    "for ind, col in enumerate(paris_df.columns):\n",
    "    col_dict[col] = new_col[ind]\n",
    "print(col_dict)\n",
    "paris_df.rename(columns = col_dict, inplace= True)"
   ]
  },
  {
   "cell_type": "code",
   "execution_count": 12,
   "metadata": {},
   "outputs": [],
   "source": [
    "#Are we removing any features for general importance?\n"
   ]
  },
  {
   "cell_type": "code",
<<<<<<< Updated upstream
   "execution_count": 14,
   "metadata": {},
   "outputs": [
    {
     "data": {
      "text/html": [
       "<div>\n",
       "<style scoped>\n",
       "    .dataframe tbody tr th:only-of-type {\n",
       "        vertical-align: middle;\n",
       "    }\n",
       "\n",
       "    .dataframe tbody tr th {\n",
       "        vertical-align: top;\n",
       "    }\n",
       "\n",
       "    .dataframe thead th {\n",
       "        text-align: right;\n",
       "    }\n",
       "</style>\n",
       "<table border=\"1\" class=\"dataframe\">\n",
       "  <thead>\n",
       "    <tr style=\"text-align: right;\">\n",
       "      <th></th>\n",
       "      <th>Building_Size(m)</th>\n",
       "      <th>Num_of_Rooms</th>\n",
       "      <th>Has_Yard</th>\n",
       "      <th>Has_Pool</th>\n",
       "      <th>Num_of_Floors</th>\n",
       "      <th>City_Code</th>\n",
       "      <th>City_Part_Range</th>\n",
       "      <th>Num_Previous_Owners</th>\n",
       "      <th>Year_Built</th>\n",
       "      <th>Has_Storm_Protector</th>\n",
       "      <th>Basement_Size(m)</th>\n",
       "      <th>Attic_Size(m)</th>\n",
       "      <th>Garage_Size(m)</th>\n",
       "      <th>Has_Storage_Room</th>\n",
       "      <th>Num_of_Guest_Rooms</th>\n",
       "      <th>Price</th>\n",
       "    </tr>\n",
       "    <tr>\n",
       "      <th>Category</th>\n",
       "      <th></th>\n",
       "      <th></th>\n",
       "      <th></th>\n",
       "      <th></th>\n",
       "      <th></th>\n",
       "      <th></th>\n",
       "      <th></th>\n",
       "      <th></th>\n",
       "      <th></th>\n",
       "      <th></th>\n",
       "      <th></th>\n",
       "      <th></th>\n",
       "      <th></th>\n",
       "      <th></th>\n",
       "      <th></th>\n",
       "      <th></th>\n",
       "    </tr>\n",
       "  </thead>\n",
       "  <tbody>\n",
       "    <tr>\n",
       "      <th>Basic</th>\n",
       "      <td>49999.331883</td>\n",
       "      <td>50.363251</td>\n",
       "      <td>0.43755</td>\n",
       "      <td>0.423927</td>\n",
       "      <td>50.318374</td>\n",
       "      <td>50181.889410</td>\n",
       "      <td>5.513566</td>\n",
       "      <td>5.535661</td>\n",
       "      <td>2005.469376</td>\n",
       "      <td>0.499485</td>\n",
       "      <td>5045.484946</td>\n",
       "      <td>5034.319977</td>\n",
       "      <td>553.342416</td>\n",
       "      <td>0.502576</td>\n",
       "      <td>4.990841</td>\n",
       "      <td>5.005929e+06</td>\n",
       "    </tr>\n",
       "    <tr>\n",
       "      <th>Luxury</th>\n",
       "      <td>48977.982609</td>\n",
       "      <td>50.324901</td>\n",
       "      <td>1.00000</td>\n",
       "      <td>1.000000</td>\n",
       "      <td>49.985771</td>\n",
       "      <td>50526.527273</td>\n",
       "      <td>5.486166</td>\n",
       "      <td>5.425296</td>\n",
       "      <td>2005.620553</td>\n",
       "      <td>0.502767</td>\n",
       "      <td>4947.611067</td>\n",
       "      <td>4984.443478</td>\n",
       "      <td>551.593676</td>\n",
       "      <td>0.505929</td>\n",
       "      <td>5.020553</td>\n",
       "      <td>4.907260e+06</td>\n",
       "    </tr>\n",
       "  </tbody>\n",
       "</table>\n",
       "</div>"
      ],
      "text/plain": [
       "          Building_Size(m)  Num_of_Rooms  Has_Yard  Has_Pool  Num_of_Floors  \\\n",
       "Category                                                                      \n",
       "Basic         49999.331883     50.363251   0.43755  0.423927      50.318374   \n",
       "Luxury        48977.982609     50.324901   1.00000  1.000000      49.985771   \n",
       "\n",
       "             City_Code  City_Part_Range  Num_Previous_Owners   Year_Built  \\\n",
       "Category                                                                    \n",
       "Basic     50181.889410         5.513566             5.535661  2005.469376   \n",
       "Luxury    50526.527273         5.486166             5.425296  2005.620553   \n",
       "\n",
       "          Has_Storm_Protector  Basement_Size(m)  Attic_Size(m)  \\\n",
       "Category                                                         \n",
       "Basic                0.499485       5045.484946    5034.319977   \n",
       "Luxury               0.502767       4947.611067    4984.443478   \n",
       "\n",
       "          Garage_Size(m)  Has_Storage_Room  Num_of_Guest_Rooms         Price  \n",
       "Category                                                                      \n",
       "Basic         553.342416          0.502576            4.990841  5.005929e+06  \n",
       "Luxury        551.593676          0.505929            5.020553  4.907260e+06  "
      ]
     },
     "execution_count": 14,
     "metadata": {},
     "output_type": "execute_result"
=======
   "execution_count": 25,
   "metadata": {},
   "outputs": [
    {
     "ename": "KeyError",
     "evalue": "'category'",
     "output_type": "error",
     "traceback": [
      "\u001b[0;31m---------------------------------------------------------------------------\u001b[0m",
      "\u001b[0;31mKeyError\u001b[0m                                  Traceback (most recent call last)",
      "\u001b[0;32m<ipython-input-25-df617bf082c5>\u001b[0m in \u001b[0;36m<module>\u001b[0;34m\u001b[0m\n\u001b[1;32m      1\u001b[0m \u001b[0;31m#Looking at values based on categories\u001b[0m\u001b[0;34m\u001b[0m\u001b[0;34m\u001b[0m\u001b[0;34m\u001b[0m\u001b[0m\n\u001b[1;32m      2\u001b[0m \u001b[0;31m#Looking at the binary values shows a few things.  Every Luxury home has: Pool, Newly Built,Has Yard and Has Pool\u001b[0m\u001b[0;34m\u001b[0m\u001b[0;34m\u001b[0m\u001b[0;34m\u001b[0m\u001b[0m\n\u001b[0;32m----> 3\u001b[0;31m \u001b[0mparis_df\u001b[0m\u001b[0;34m.\u001b[0m\u001b[0mgroupby\u001b[0m\u001b[0;34m(\u001b[0m\u001b[0;34m[\u001b[0m\u001b[0;34m\"category\"\u001b[0m\u001b[0;34m]\u001b[0m\u001b[0;34m)\u001b[0m\u001b[0;34m.\u001b[0m\u001b[0mmean\u001b[0m\u001b[0;34m(\u001b[0m\u001b[0;34m)\u001b[0m\u001b[0;34m\u001b[0m\u001b[0;34m\u001b[0m\u001b[0m\n\u001b[0m",
      "\u001b[0;32m~/opt/anaconda3/envs/learn-env/lib/python3.8/site-packages/pandas/core/frame.py\u001b[0m in \u001b[0;36mgroupby\u001b[0;34m(self, by, axis, level, as_index, sort, group_keys, squeeze, observed, dropna)\u001b[0m\n\u001b[1;32m   6509\u001b[0m         \u001b[0maxis\u001b[0m \u001b[0;34m=\u001b[0m \u001b[0mself\u001b[0m\u001b[0;34m.\u001b[0m\u001b[0m_get_axis_number\u001b[0m\u001b[0;34m(\u001b[0m\u001b[0maxis\u001b[0m\u001b[0;34m)\u001b[0m\u001b[0;34m\u001b[0m\u001b[0;34m\u001b[0m\u001b[0m\n\u001b[1;32m   6510\u001b[0m \u001b[0;34m\u001b[0m\u001b[0m\n\u001b[0;32m-> 6511\u001b[0;31m         return DataFrameGroupBy(\n\u001b[0m\u001b[1;32m   6512\u001b[0m             \u001b[0mobj\u001b[0m\u001b[0;34m=\u001b[0m\u001b[0mself\u001b[0m\u001b[0;34m,\u001b[0m\u001b[0;34m\u001b[0m\u001b[0;34m\u001b[0m\u001b[0m\n\u001b[1;32m   6513\u001b[0m             \u001b[0mkeys\u001b[0m\u001b[0;34m=\u001b[0m\u001b[0mby\u001b[0m\u001b[0;34m,\u001b[0m\u001b[0;34m\u001b[0m\u001b[0;34m\u001b[0m\u001b[0m\n",
      "\u001b[0;32m~/opt/anaconda3/envs/learn-env/lib/python3.8/site-packages/pandas/core/groupby/groupby.py\u001b[0m in \u001b[0;36m__init__\u001b[0;34m(self, obj, keys, axis, level, grouper, exclusions, selection, as_index, sort, group_keys, squeeze, observed, mutated, dropna)\u001b[0m\n\u001b[1;32m    523\u001b[0m             \u001b[0;32mfrom\u001b[0m \u001b[0mpandas\u001b[0m\u001b[0;34m.\u001b[0m\u001b[0mcore\u001b[0m\u001b[0;34m.\u001b[0m\u001b[0mgroupby\u001b[0m\u001b[0;34m.\u001b[0m\u001b[0mgrouper\u001b[0m \u001b[0;32mimport\u001b[0m \u001b[0mget_grouper\u001b[0m\u001b[0;34m\u001b[0m\u001b[0;34m\u001b[0m\u001b[0m\n\u001b[1;32m    524\u001b[0m \u001b[0;34m\u001b[0m\u001b[0m\n\u001b[0;32m--> 525\u001b[0;31m             grouper, exclusions, obj = get_grouper(\n\u001b[0m\u001b[1;32m    526\u001b[0m                 \u001b[0mobj\u001b[0m\u001b[0;34m,\u001b[0m\u001b[0;34m\u001b[0m\u001b[0;34m\u001b[0m\u001b[0m\n\u001b[1;32m    527\u001b[0m                 \u001b[0mkeys\u001b[0m\u001b[0;34m,\u001b[0m\u001b[0;34m\u001b[0m\u001b[0;34m\u001b[0m\u001b[0m\n",
      "\u001b[0;32m~/opt/anaconda3/envs/learn-env/lib/python3.8/site-packages/pandas/core/groupby/grouper.py\u001b[0m in \u001b[0;36mget_grouper\u001b[0;34m(obj, key, axis, level, sort, observed, mutated, validate, dropna)\u001b[0m\n\u001b[1;32m    779\u001b[0m                 \u001b[0min_axis\u001b[0m\u001b[0;34m,\u001b[0m \u001b[0mname\u001b[0m\u001b[0;34m,\u001b[0m \u001b[0mlevel\u001b[0m\u001b[0;34m,\u001b[0m \u001b[0mgpr\u001b[0m \u001b[0;34m=\u001b[0m \u001b[0;32mFalse\u001b[0m\u001b[0;34m,\u001b[0m \u001b[0;32mNone\u001b[0m\u001b[0;34m,\u001b[0m \u001b[0mgpr\u001b[0m\u001b[0;34m,\u001b[0m \u001b[0;32mNone\u001b[0m\u001b[0;34m\u001b[0m\u001b[0;34m\u001b[0m\u001b[0m\n\u001b[1;32m    780\u001b[0m             \u001b[0;32melse\u001b[0m\u001b[0;34m:\u001b[0m\u001b[0;34m\u001b[0m\u001b[0;34m\u001b[0m\u001b[0m\n\u001b[0;32m--> 781\u001b[0;31m                 \u001b[0;32mraise\u001b[0m \u001b[0mKeyError\u001b[0m\u001b[0;34m(\u001b[0m\u001b[0mgpr\u001b[0m\u001b[0;34m)\u001b[0m\u001b[0;34m\u001b[0m\u001b[0;34m\u001b[0m\u001b[0m\n\u001b[0m\u001b[1;32m    782\u001b[0m         \u001b[0;32melif\u001b[0m \u001b[0misinstance\u001b[0m\u001b[0;34m(\u001b[0m\u001b[0mgpr\u001b[0m\u001b[0;34m,\u001b[0m \u001b[0mGrouper\u001b[0m\u001b[0;34m)\u001b[0m \u001b[0;32mand\u001b[0m \u001b[0mgpr\u001b[0m\u001b[0;34m.\u001b[0m\u001b[0mkey\u001b[0m \u001b[0;32mis\u001b[0m \u001b[0;32mnot\u001b[0m \u001b[0;32mNone\u001b[0m\u001b[0;34m:\u001b[0m\u001b[0;34m\u001b[0m\u001b[0;34m\u001b[0m\u001b[0m\n\u001b[1;32m    783\u001b[0m             \u001b[0;31m# Add key to exclusions\u001b[0m\u001b[0;34m\u001b[0m\u001b[0;34m\u001b[0m\u001b[0;34m\u001b[0m\u001b[0m\n",
      "\u001b[0;31mKeyError\u001b[0m: 'category'"
     ]
>>>>>>> Stashed changes
    }
   ],
   "source": [
    "#Looking at values based on categories\n",
    "#Looking at the binary values shows a few things.  Every Luxury home has: Pool, Newly Built,Has Yard and Has Pool\n",
    "paris_df.groupby([\"Category\"]).mean()"
   ]
  },
  {
   "cell_type": "markdown",
   "metadata": {},
   "source": [
    "May remove isNewBuilt because it doesnt offer any newer information than the year it was made...redundant"
   ]
  },
  {
   "cell_type": "code",
<<<<<<< Updated upstream
   "execution_count": 15,
   "metadata": {},
   "outputs": [
    {
     "data": {
      "text/plain": [
       "Index(['Building_Size(m)', 'Num_of_Rooms', 'Has_Yard', 'Has_Pool',\n",
       "       'Num_of_Floors', 'City_Code', 'City_Part_Range', 'Num_Previous_Owners',\n",
       "       'Year_Built', 'Has_Storm_Protector', 'Basement_Size(m)',\n",
       "       'Attic_Size(m)', 'Garage_Size(m)', 'Has_Storage_Room',\n",
       "       'Num_of_Guest_Rooms', 'Price', 'Category'],\n",
       "      dtype='object')"
      ]
     },
     "execution_count": 15,
     "metadata": {},
     "output_type": "execute_result"
    }
   ],
=======
   "execution_count": null,
   "metadata": {},
   "outputs": [],
>>>>>>> Stashed changes
   "source": [
    "#Pair plot for quick view of the datasets distribution \n",
    "#sns.set(rc={'figure.figsize':(20,15)})\n",
    "#sns.pairplot(paris_df)\n",
    "paris_df.columns"
   ]
  },
  {
   "cell_type": "code",
<<<<<<< Updated upstream
   "execution_count": 17,
   "metadata": {
    "collapsed": true
   },
   "outputs": [
    {
     "data": {
      "text/plain": [
       "<matplotlib.legend.Legend at 0x7f90f00e01c0>"
      ]
     },
     "execution_count": 17,
     "metadata": {},
     "output_type": "execute_result"
    },
    {
     "data": {
      "image/png": "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\n",
      "text/plain": [
       "<Figure size 720x720 with 1 Axes>"
      ]
     },
     "metadata": {},
     "output_type": "display_data"
    }
   ],
=======
   "execution_count": null,
   "metadata": {},
   "outputs": [],
>>>>>>> Stashed changes
   "source": [
    "#Plot the aVERAGE Price versus Luxury Basic\n",
    "\n",
    "fig,ax = plt.subplots(figsize =(10,10), facecolor = \"white\")\n",
    "\n",
    "ax.hist( paris_df[\"Price\"])\n",
    "plt.ylim([0, 1000000])\n",
    "\n",
    "ax.legend(labels = [\"Basic\", \"Luxury\"])\n"
   ]
  },
  {
   "cell_type": "markdown",
   "metadata": {},
   "source": [
    "Visualization cheetsheet https://datasans.medium.com/exploratory-data-analysis-cheatsheet-everything-you-might-need-36230538484d"
   ]
  },
  {
   "cell_type": "code",
<<<<<<< Updated upstream
   "execution_count": 18,
   "metadata": {},
   "outputs": [
    {
     "data": {
      "image/png": "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\n",
      "text/plain": [
       "<Figure size 720x432 with 1 Axes>"
      ]
     },
     "metadata": {},
     "output_type": "display_data"
    }
   ],
=======
   "execution_count": null,
   "metadata": {},
   "outputs": [],
>>>>>>> Stashed changes
   "source": [
    "# Model the Category variables vs the Price Histogram with Legend Homecount\n",
    "#Show a cross tab table\n",
    "fig, ax = plt.subplots(figsize=(10, 6),facecolor = \"white\")\n"
   ]
  },
  {
   "cell_type": "markdown",
   "metadata": {},
   "source": [
    "# Data Preparation"
   ]
  },
  {
   "cell_type": "code",
<<<<<<< Updated upstream
   "execution_count": 19,
=======
   "execution_count": null,
>>>>>>> Stashed changes
   "metadata": {},
   "outputs": [],
   "source": [
    "#Copy original dataframe\n",
    "pdf = paris_df.copy()"
   ]
  },
  {
   "cell_type": "code",
<<<<<<< Updated upstream
   "execution_count": 131,
=======
   "execution_count": null,
>>>>>>> Stashed changes
   "metadata": {},
   "outputs": [],
   "source": [
    "#Changing Basic and Luxury to numerical values in the Category Column\n",
    "cat_dict = {\"Basic\":0, \"Luxury\":1}\n",
    "pdf[\"Category\"] = pdf[\"Category\"].map(cat_dict)"
   ]
  },
  {
   "cell_type": "code",
<<<<<<< Updated upstream
   "execution_count": 141,
   "metadata": {},
   "outputs": [
    {
     "data": {
      "text/html": [
       "<div>\n",
       "<style scoped>\n",
       "    .dataframe tbody tr th:only-of-type {\n",
       "        vertical-align: middle;\n",
       "    }\n",
       "\n",
       "    .dataframe tbody tr th {\n",
       "        vertical-align: top;\n",
       "    }\n",
       "\n",
       "    .dataframe thead th {\n",
       "        text-align: right;\n",
       "    }\n",
       "</style>\n",
       "<table border=\"1\" class=\"dataframe\">\n",
       "  <thead>\n",
       "    <tr style=\"text-align: right;\">\n",
       "      <th></th>\n",
       "      <th>Building_Size(m)</th>\n",
       "      <th>Num_of_Rooms</th>\n",
       "      <th>Has_Yard</th>\n",
       "      <th>Has_Pool</th>\n",
       "      <th>Num_of_Floors</th>\n",
       "      <th>City_Code</th>\n",
       "      <th>City_Part_Range</th>\n",
       "      <th>Num_Previous_Owners</th>\n",
       "      <th>Year_Built</th>\n",
       "      <th>Has_Storm_Protector</th>\n",
       "      <th>Basement_Size(m)</th>\n",
       "      <th>Attic_Size(m)</th>\n",
       "      <th>Garage_Size(m)</th>\n",
       "      <th>Has_Storage_Room</th>\n",
       "      <th>Num_of_Guest_Rooms</th>\n",
       "      <th>Price</th>\n",
       "      <th>Category</th>\n",
       "    </tr>\n",
       "  </thead>\n",
       "  <tbody>\n",
       "    <tr>\n",
       "      <th>0</th>\n",
       "      <td>75523</td>\n",
       "      <td>3</td>\n",
       "      <td>0</td>\n",
       "      <td>1</td>\n",
       "      <td>63</td>\n",
       "      <td>9373</td>\n",
       "      <td>3</td>\n",
       "      <td>8</td>\n",
       "      <td>2005</td>\n",
       "      <td>1</td>\n",
       "      <td>4313</td>\n",
       "      <td>9005</td>\n",
       "      <td>956</td>\n",
       "      <td>0</td>\n",
       "      <td>7</td>\n",
       "      <td>7559081.5</td>\n",
       "      <td>0</td>\n",
       "    </tr>\n",
       "    <tr>\n",
       "      <th>1</th>\n",
       "      <td>80771</td>\n",
       "      <td>39</td>\n",
       "      <td>1</td>\n",
       "      <td>1</td>\n",
       "      <td>98</td>\n",
       "      <td>39381</td>\n",
       "      <td>8</td>\n",
       "      <td>6</td>\n",
       "      <td>2015</td>\n",
       "      <td>0</td>\n",
       "      <td>3653</td>\n",
       "      <td>2436</td>\n",
       "      <td>128</td>\n",
       "      <td>1</td>\n",
       "      <td>2</td>\n",
       "      <td>8085989.5</td>\n",
       "      <td>1</td>\n",
       "    </tr>\n",
       "    <tr>\n",
       "      <th>2</th>\n",
       "      <td>55712</td>\n",
       "      <td>58</td>\n",
       "      <td>0</td>\n",
       "      <td>1</td>\n",
       "      <td>19</td>\n",
       "      <td>34457</td>\n",
       "      <td>6</td>\n",
       "      <td>8</td>\n",
       "      <td>2021</td>\n",
       "      <td>0</td>\n",
       "      <td>2937</td>\n",
       "      <td>8852</td>\n",
       "      <td>135</td>\n",
       "      <td>1</td>\n",
       "      <td>9</td>\n",
       "      <td>5574642.1</td>\n",
       "      <td>0</td>\n",
       "    </tr>\n",
       "    <tr>\n",
       "      <th>3</th>\n",
       "      <td>32316</td>\n",
       "      <td>47</td>\n",
       "      <td>0</td>\n",
       "      <td>0</td>\n",
       "      <td>6</td>\n",
       "      <td>27939</td>\n",
       "      <td>10</td>\n",
       "      <td>4</td>\n",
       "      <td>2012</td>\n",
       "      <td>1</td>\n",
       "      <td>659</td>\n",
       "      <td>7141</td>\n",
       "      <td>359</td>\n",
       "      <td>0</td>\n",
       "      <td>3</td>\n",
       "      <td>3232561.2</td>\n",
       "      <td>0</td>\n",
       "    </tr>\n",
       "    <tr>\n",
       "      <th>4</th>\n",
       "      <td>70429</td>\n",
       "      <td>19</td>\n",
       "      <td>1</td>\n",
       "      <td>1</td>\n",
       "      <td>90</td>\n",
       "      <td>38045</td>\n",
       "      <td>3</td>\n",
       "      <td>7</td>\n",
       "      <td>1990</td>\n",
       "      <td>0</td>\n",
       "      <td>8435</td>\n",
       "      <td>2429</td>\n",
       "      <td>292</td>\n",
       "      <td>1</td>\n",
       "      <td>4</td>\n",
       "      <td>7055052.0</td>\n",
       "      <td>1</td>\n",
       "    </tr>\n",
       "  </tbody>\n",
       "</table>\n",
       "</div>"
      ],
      "text/plain": [
       "   Building_Size(m)  Num_of_Rooms  Has_Yard  Has_Pool  Num_of_Floors  \\\n",
       "0             75523             3         0         1             63   \n",
       "1             80771            39         1         1             98   \n",
       "2             55712            58         0         1             19   \n",
       "3             32316            47         0         0              6   \n",
       "4             70429            19         1         1             90   \n",
       "\n",
       "   City_Code  City_Part_Range  Num_Previous_Owners  Year_Built  \\\n",
       "0       9373                3                    8        2005   \n",
       "1      39381                8                    6        2015   \n",
       "2      34457                6                    8        2021   \n",
       "3      27939               10                    4        2012   \n",
       "4      38045                3                    7        1990   \n",
       "\n",
       "   Has_Storm_Protector  Basement_Size(m)  Attic_Size(m)  Garage_Size(m)  \\\n",
       "0                    1              4313           9005             956   \n",
       "1                    0              3653           2436             128   \n",
       "2                    0              2937           8852             135   \n",
       "3                    1               659           7141             359   \n",
       "4                    0              8435           2429             292   \n",
       "\n",
       "   Has_Storage_Room  Num_of_Guest_Rooms      Price  Category  \n",
       "0                 0                   7  7559081.5         0  \n",
       "1                 1                   2  8085989.5         1  \n",
       "2                 1                   9  5574642.1         0  \n",
       "3                 0                   3  3232561.2         0  \n",
       "4                 1                   4  7055052.0         1  "
      ]
     },
     "execution_count": 141,
     "metadata": {},
     "output_type": "execute_result"
    }
   ],
=======
   "execution_count": null,
   "metadata": {},
   "outputs": [],
>>>>>>> Stashed changes
   "source": [
    "pdf.head()"
   ]
  },
  {
   "cell_type": "code",
<<<<<<< Updated upstream
   "execution_count": 145,
=======
   "execution_count": null,
>>>>>>> Stashed changes
   "metadata": {},
   "outputs": [],
   "source": [
    "X = pdf.drop(\"Category\", axis = 1)\n",
    "y = pdf[\"Category\"]\n",
    "X_train, X_test, y_train, y_test = train_test_split(X,y, random_state = 42)"
   ]
  },
  {
   "cell_type": "code",
   "execution_count": 146,
   "metadata": {},
   "outputs": [
    {
     "data": {
      "text/plain": [
       "4901    0\n",
       "4375    0\n",
       "6698    0\n",
       "9805    0\n",
       "1101    0\n",
       "       ..\n",
       "5734    0\n",
       "5191    0\n",
       "5390    0\n",
       "860     1\n",
       "7270    0\n",
       "Name: Category, Length: 7500, dtype: int64"
      ]
     },
     "execution_count": 146,
     "metadata": {},
     "output_type": "execute_result"
    }
   ],
   "source": [
    "y_train"
   ]
  },
  {
   "cell_type": "markdown",
   "metadata": {},
   "source": [
    "# Modeling"
   ]
  },
  {
   "cell_type": "markdown",
   "metadata": {},
   "source": [
    "## Model 1 - Dummy Classifier Model "
   ]
  },
  {
   "cell_type": "markdown",
   "metadata": {},
   "source": [
    "[Dummy Classifier- Abiheet Sahoo, 2020 ](https://towardsai.net/p/data-science/dealing-with-class-imbalance%E2%80%8A-%E2%80%8A-dummy-classifiers)"
   ]
  },
  {
   "cell_type": "code",
<<<<<<< Updated upstream
   "execution_count": 178,
   "metadata": {},
   "outputs": [
    {
     "data": {
      "text/plain": [
       "DummyClassifier(strategy='most_frequent')"
      ]
     },
     "execution_count": 178,
     "metadata": {},
     "output_type": "execute_result"
    }
   ],
=======
   "execution_count": null,
   "metadata": {},
   "outputs": [],
>>>>>>> Stashed changes
   "source": [
    "dummy_paris_df = DummyClassifier(strategy=\"most_frequent\")\n",
    "dummy_paris_df.fit(X_train, y_train)\n"
   ]
  },
  {
   "cell_type": "code",
<<<<<<< Updated upstream
   "execution_count": 179,
   "metadata": {},
   "outputs": [],
   "source": [
    "#First 25 predictions \n",
    "dum_pred = dummy_paris_df.predict(X_train)"
   ]
  },
  {
   "cell_type": "code",
   "execution_count": 166,
   "metadata": {},
   "outputs": [],
   "source": [
    "class ModelWithCV():\n",
    "    '''Structure to save the model and more easily see its crossvalidation'''\n",
    "    \n",
    "    #\n",
    "    def __init__(self, model, model_name, X, y, cv_now=True):\n",
    "        self.model = model\n",
    "        self.name = model_name\n",
    "        self.X = X\n",
    "        self.y = y\n",
    "        # For CV results\n",
    "        self.cv_results = None\n",
    "        self.cv_mean = None\n",
    "        #self.cv_median = None\n",
    "        #self.cv_std = None\n",
    "        #\n",
    "        if cv_now:\n",
    "            self.cross_validate()\n",
    "        \n",
    "    def cross_validate(self, X=None, y=None, kfolds=10, scoring = None):\n",
    "        '''\n",
    "        Perform cross-validation and return results.\n",
    "        \n",
    "        Args: \n",
    "          X:\n",
    "            Optional; Training data to perform CV on. Otherwise use X from object\n",
    "          y:\n",
    "            Optional; Training data to perform CV on. Otherwise use y from object\n",
    "          kfolds:\n",
    "            Optional; Number of folds for CV (default is 10)  \n",
    "        '''\n",
    "        \n",
    "        cv_X = X if X else self.X\n",
    "        cv_y = y if y else self.y\n",
    "\n",
    "        self.cv_results = cross_val_score(self.model, cv_X, cv_y, scoring = scoring, cv=kfolds)\n",
    "        self.cv_mean = np.mean(self.cv_results)\n",
    "        self.cv_median = np.median(self.cv_results)\n",
    "        self.cv_std = np.std(self.cv_results)\n",
    "\n",
    "        \n",
    "    def print_cv_summary(self):\n",
    "        cv_summary = (\n",
    "        f'''CV Results for `{self.name}` model:\n",
    "            {self.cv_mean:.5f} ± {self.cv_std:.5f} precision\n",
    "        ''')\n",
    "        print(cv_summary)\n",
    "\n",
    "        \n",
    "    def plot_cv(self, ax):\n",
    "        '''\n",
    "        Plot the cross-validation values using the array of results and given \n",
    "        Axis for plotting.\n",
    "        '''\n",
    "        ax.set_title(f'CV Results for `{self.name}` Model')\n",
    "        # Thinner violinplot with higher bw\n",
    "        sns.violinplot(y=self.cv_results, ax=ax,split=True,bw=.4)\n",
    "        sns.swarmplot(\n",
    "                y=self.cv_results,\n",
    "                color='orange',\n",
    "                size=10,\n",
    "                alpha= 0.8,\n",
    "                ax=ax\n",
    "        )\n",
    "\n",
    "        return ax"
   ]
  },
  {
   "cell_type": "code",
   "execution_count": 167,
   "metadata": {},
   "outputs": [
    {
     "name": "stdout",
     "output_type": "stream",
     "text": [
      "Percent of guess Luxury =  0.12 %\n"
     ]
    }
   ],
   "source": [
    "#Score of guessing Luxury\n",
    "print(\"Percent of guess Luxury = \", round(1-dummy_paris_df.score(X_train,y_train),2), \"%\")"
   ]
  },
  {
   "cell_type": "code",
   "execution_count": 173,
   "metadata": {},
   "outputs": [
    {
     "data": {
      "text/plain": [
       "array([0.8756, 0.8756, 0.8756])"
      ]
     },
     "execution_count": 173,
     "metadata": {},
     "output_type": "execute_result"
    }
   ],
=======
   "execution_count": null,
   "metadata": {},
   "outputs": [],
>>>>>>> Stashed changes
   "source": [
    "#Cross Validation results for dummy score\n",
    "#change score to precision\n",
    "cv_results = cross_val_score(dummy_paris_df, X_train, y_train, cv=3)\n",
    "cv_results"
   ]
  },
  {
   "cell_type": "code",
<<<<<<< Updated upstream
   "execution_count": 169,
   "metadata": {},
   "outputs": [],
   "source": [
    "dummy_model_results = ModelWithCV(\n",
    "                        model=dummy_paris_df,\n",
    "                        model_name='dummy',\n",
    "                        X=X_train, \n",
    "                        y=y_train\n",
    ")"
   ]
  },
  {
   "cell_type": "code",
   "execution_count": 170,
   "metadata": {
    "collapsed": true
   },
   "outputs": [
    {
     "data": {
      "image/png": "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\n",
      "text/plain": [
       "<Figure size 432x288 with 1 Axes>"
      ]
     },
     "metadata": {
      "needs_background": "light"
     },
     "output_type": "display_data"
    }
   ],
   "source": [
    "fig, ax = plt.subplots()\n",
    "ax = dummy_model_results.plot_cv(ax)\n",
    "#plt.tight_layout();\n",
    "\n",
    "#dummy_model_results.print_cv_summary()"
   ]
  },
  {
   "cell_type": "code",
   "execution_count": 181,
   "metadata": {},
   "outputs": [
    {
     "name": "stderr",
     "output_type": "stream",
     "text": [
      "/Users/deztanyjackson/opt/anaconda3/envs/learn-env/lib/python3.8/site-packages/sklearn/metrics/_classification.py:1221: UndefinedMetricWarning: Precision is ill-defined and being set to 0.0 due to no predicted samples. Use `zero_division` parameter to control this behavior.\n",
      "  _warn_prf(average, modifier, msg_start, len(result))\n"
     ]
    },
    {
     "data": {
      "text/plain": [
       "0.0"
      ]
     },
     "execution_count": 181,
     "metadata": {},
     "output_type": "execute_result"
    }
   ],
=======
   "execution_count": null,
   "metadata": {},
   "outputs": [],
>>>>>>> Stashed changes
   "source": [
    "precision_score(y_train, dum_pred)"
   ]
  },
  {
   "cell_type": "markdown",
   "metadata": {},
   "source": [
    "Cross validation scores are the same as those with test split"
   ]
  },
  {
   "cell_type": "code",
   "execution_count": 83,
   "metadata": {},
   "outputs": [],
   "source": [
    "class Model():\n",
    "    \n",
    "    def __init__(self, X=None,y=None):\n",
    "        self.X = X\n",
    "        self.y = y\n",
    "        \n",
    "    def LogReg_Init(self, randState, penalty=None):\n",
    "        self.logreg_model = LogisticRegression(random_state=randState, penalty=penalty)\n",
    "        return self.logreg_model\n",
    "    \n",
    "    def LogReg_Fit(self,X,y):\n",
    "        #self.mod_X = X if X else self.X\n",
    "        #self.mod_y = y if y else self.y\n",
    "        self.logreg_model.fit(self.X ,self.y)\n",
    "        \n",
    "    def LogReg_Predict(self, X_val):   \n",
    "        ypred = self.logreg_model.predict(X_train)\n",
    "        return ypred"
   ]
  },
  {
   "cell_type": "markdown",
   "metadata": {},
   "source": [
    "## Model 2.1 - Logistic Regression Model (Simple Model)"
   ]
  },
  {
   "cell_type": "code",
   "execution_count": 88,
   "metadata": {},
   "outputs": [
    {
     "data": {
      "text/plain": [
       "'SimpleModel = Model(X_train, y_train)\\n\\nSimpleModel.LogReg_Init(42,\"none\")\\nSimpleModel.LogReg_Fit(X_train, y_train)\\nypred = SimpleModel.LogReg_Predict(X_train)'"
      ]
     },
     "execution_count": 88,
     "metadata": {},
     "output_type": "execute_result"
    }
   ],
   "source": [
    "\"\"\"SimpleModel = Model(X_train, y_train)\n",
    "\n",
    "SimpleModel.LogReg_Init(42,\"none\")\n",
    "SimpleModel.LogReg_Fit(X_train, y_train)\n",
    "ypred = SimpleModel.LogReg_Predict(X_train)\"\"\" "
   ]
  },
  {
   "cell_type": "code",
   "execution_count": 89,
   "metadata": {},
   "outputs": [],
   "source": [
    "simple_logreg_model = LogisticRegression(random_state=42, penalty='none')"
   ]
  },
  {
   "cell_type": "code",
   "execution_count": 90,
   "metadata": {},
   "outputs": [
    {
     "data": {
      "text/plain": [
       "LogisticRegression(penalty='none', random_state=42)"
      ]
     },
     "execution_count": 90,
     "metadata": {},
     "output_type": "execute_result"
    }
   ],
   "source": [
    "simple_logreg_model.fit(X_train, y_train)"
   ]
  },
  {
   "cell_type": "code",
   "execution_count": 91,
   "metadata": {},
   "outputs": [
    {
     "data": {
      "text/plain": [
       "array(['Basic', 'Basic', 'Basic', 'Basic', 'Basic', 'Basic', 'Basic',\n",
       "       'Basic', 'Basic', 'Basic', 'Basic', 'Basic', 'Basic', 'Basic',\n",
       "       'Basic', 'Basic', 'Basic', 'Basic', 'Basic', 'Basic', 'Basic',\n",
       "       'Basic', 'Basic', 'Basic', 'Basic', 'Basic', 'Basic', 'Basic',\n",
       "       'Basic', 'Basic', 'Basic', 'Basic', 'Basic', 'Basic', 'Basic',\n",
       "       'Basic', 'Basic', 'Basic', 'Basic', 'Basic', 'Basic', 'Basic',\n",
       "       'Basic', 'Basic', 'Basic', 'Basic', 'Basic', 'Basic', 'Basic',\n",
       "       'Basic'], dtype=object)"
      ]
     },
     "execution_count": 91,
     "metadata": {},
     "output_type": "execute_result"
    }
   ],
   "source": [
    "simple_logreg_model.predict(X_train)[:50]"
   ]
  },
  {
   "cell_type": "markdown",
   "metadata": {},
   "source": [
    "### Model 2.1 - Logisitic Regression Model Evaluation (Simple model)"
   ]
  },
  {
   "cell_type": "markdown",
   "metadata": {},
   "source": [
    "[Phase 3: Classification Workflow Demo](https://learning.flatironschool.com/courses/4965/modules/items/394773)"
   ]
  },
  {
   "cell_type": "markdown",
   "metadata": {},
   "source": [
    "Cross validation: https://medium.com/@lily_su/logistic-regression-accuracy-cross-validation-58d9eb58d6e6"
   ]
  },
  {
   "cell_type": "markdown",
   "metadata": {},
   "source": [
    "Class Imbalance https://medium.com/@lily_su/confusion-matrix-roc-auc-and-imbalanced-classes-in-logistic-regression-5c7ead3deefc\n",
    "\n",
    "In general, we use AUC ROC when we have unbalanced data. Our model is trained at various thresholds, and the best one is chosen based on its AUC score.\n",
    "\n",
    "https://medium.com/@gajendra.k.s/auc-roc-curve-ff16c0989dfe"
   ]
  },
  {
   "cell_type": "code",
   "execution_count": null,
   "metadata": {},
   "outputs": [],
   "source": [
    "cv_results = cross_val_score(dummy_paris_df, X_train, y_train, cv=3)\n",
    "cv_results"
   ]
  },
  {
   "cell_type": "markdown",
   "metadata": {},
   "source": [
    "## Model 2.2 - Decision Tree Model (Simple Model)"
   ]
  },
  {
   "cell_type": "code",
   "execution_count": null,
   "metadata": {},
   "outputs": [],
   "source": []
  },
  {
   "cell_type": "markdown",
   "metadata": {},
   "source": [
    "## Model 2.3 - Random Forest Model (Simple Model)"
   ]
  },
  {
   "cell_type": "markdown",
   "metadata": {},
   "source": [
    "## Model 2.4 - KNN Model (Simple Model)"
   ]
  },
  {
   "cell_type": "code",
   "execution_count": null,
   "metadata": {},
   "outputs": [],
   "source": [
    "## Data Prep - SMOTE [Imbalance]"
   ]
  },
  {
   "cell_type": "code",
   "execution_count": null,
   "metadata": {},
   "outputs": [],
   "source": [
    "## 2nd Iteration Simple Model[LogReg,Decision Tree, Random Forest]"
   ]
  },
  {
   "cell_type": "code",
   "execution_count": null,
   "metadata": {},
   "outputs": [],
   "source": [
    "## 3rd Iteration - Choose best model to go on with [Grid/Random Searching ] Maybe Random Forest"
   ]
  },
  {
   "cell_type": "markdown",
   "metadata": {},
   "source": [
    "# Evaluation"
   ]
  },
  {
   "cell_type": "code",
   "execution_count": null,
   "metadata": {},
   "outputs": [],
   "source": []
  }
 ],
 "metadata": {
  "kernelspec": {
   "display_name": "Python (learn-env)",
   "language": "python",
   "name": "learn-env"
  },
  "language_info": {
   "codemirror_mode": {
    "name": "ipython",
    "version": 3
   },
   "file_extension": ".py",
   "mimetype": "text/x-python",
   "name": "python",
   "nbconvert_exporter": "python",
   "pygments_lexer": "ipython3",
   "version": "3.8.5"
  }
 },
 "nbformat": 4,
 "nbformat_minor": 4
}
